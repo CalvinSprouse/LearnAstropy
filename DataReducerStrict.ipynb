{
 "cells": [
  {
   "cell_type": "markdown",
   "metadata": {},
   "source": [
    "__FILE NAME FORMAT__:\n",
    "{ImageType}\\_{Filter}\\_{ExposureTime}\\_{FileNumber}.fits\n",
    "\n",
    "__FILTER NAME FORMAT__:\n",
    "- Red = R\n",
    "- Blue = B\n",
    "- Green = G\n",
    "- Bessel R = BR\n",
    "- Bessel B = BB\n",
    "- Bessel G = BG\n",
    "- None = CLEAR\n",
    "- OIII = O3\n",
    "- SII = S2\n",
    "- Infrared = I\n",
    "- Bessel Infrared = BI\n",
    "- UV = UV\n",
    "- Bessel UV = BUV\n",
    "- H Beta = HB\n",
    "- H Alpha = HA"
   ]
  },
  {
   "cell_type": "markdown",
   "metadata": {},
   "source": [
    "### Configurations"
   ]
  },
  {
   "cell_type": "code",
   "execution_count": 165,
   "metadata": {},
   "outputs": [],
   "source": [
    "# imports\n",
    "from astropy.nddata import CCDData\n",
    "from astropy.stats import mad_std\n",
    "from astropy.utils.exceptions import AstropyWarning\n",
    "from astropy import units\n",
    "from pathlib import Path\n",
    "from rich.logging import RichHandler\n",
    "\n",
    "import ccdproc\n",
    "import logging\n",
    "import matplotlib.pyplot as plt\n",
    "import numpy as np\n",
    "import sys\n",
    "import os\n",
    "import warnings"
   ]
  },
  {
   "cell_type": "code",
   "execution_count": 166,
   "metadata": {},
   "outputs": [],
   "source": [
    "# logging configurations\n",
    "# suppresses the fits fixed warning (annoying)\n",
    "warnings.filterwarnings(\"ignore\", category=AstropyWarning, append=True)\n",
    "\n",
    "# configure loggers\n",
    "# outputs to terminal but will save any errors to a log\n",
    "log = logging.Logger(name=\"DataReducerLog\")\n",
    "formatter = logging.Formatter(\"%(name)s|%(asctime)s|[%(levelname)s]|:%(message)s\")\n",
    "log.setLevel(logging.DEBUG)\n",
    "\n",
    "stream_handler = RichHandler()\n",
    "stream_handler.setLevel(logging.DEBUG) # change this to change terminal readout\n",
    "file_handler = logging.FileHandler(filename=\"debug.log\", delay=True)\n",
    "file_handler.setFormatter(formatter)\n",
    "file_handler.setLevel(logging.ERROR) # change this to change what is logged to file\n",
    "\n",
    "log.addHandler(stream_handler)\n",
    "log.addHandler(file_handler)"
   ]
  },
  {
   "cell_type": "code",
   "execution_count": 80,
   "metadata": {},
   "outputs": [],
   "source": [
    "# configure file directies (for testing)\n",
    "# TODO: Find better method/make this more configurable\n",
    "# consider having this run from the raw data directory and just have the processed\n",
    "# output nested within\n",
    "raw_data_path = Path(\"RawData\")\n",
    "processed_data_path = Path(\"ProcessedData\")\n",
    "# ensure the processed data dir is there\n",
    "os.makedirs(processed_data_path, exist_ok=True)"
   ]
  },
  {
   "cell_type": "markdown",
   "metadata": {},
   "source": [
    "### Load Data"
   ]
  },
  {
   "cell_type": "code",
   "execution_count": 167,
   "metadata": {},
   "outputs": [
    {
     "data": {
      "text/html": [
       "<pre style=\"white-space:pre;overflow-x:auto;line-height:normal;font-family:Menlo,'DejaVu Sans Mono',consolas,'Courier New',monospace\"><span style=\"color: #7fbfbf; text-decoration-color: #7fbfbf\">[06/27/22 10:59:15] </span><span style=\"color: #000080; text-decoration-color: #000080\">INFO    </span> Loaded <span style=\"color: #008080; text-decoration-color: #008080; font-weight: bold\">52</span> raw images                               <a href=\"file:///var/folders/5d/bvscdv6j3d71wbxsvd8zwbs80000gn/T/ipykernel_956/90273571.py\"><span style=\"color: #7f7f7f; text-decoration-color: #7f7f7f\">90273571.py</span></a><span style=\"color: #7f7f7f; text-decoration-color: #7f7f7f\">:4</span>\n",
       "</pre>\n"
      ],
      "text/plain": [
       "<rich.jupyter.JupyterRenderable at 0x15a3cd9a0>"
      ]
     },
     "metadata": {},
     "output_type": "display_data"
    }
   ],
   "source": [
    "# load and sort data from raw data directory\n",
    "raw_images = ccdproc.ImageFileCollection(raw_data_path)\n",
    "\n",
    "log.info(\"Loaded {0} raw images\".format(len(raw_images.files_filtered())))"
   ]
  },
  {
   "cell_type": "markdown",
   "metadata": {},
   "source": [
    "### Prepare Functions"
   ]
  },
  {
   "cell_type": "code",
   "execution_count": 133,
   "metadata": {},
   "outputs": [],
   "source": [
    "def exp_time_to_str(exposure_time):\n",
    "    if int(exposure_time) == exposure_time:\n",
    "        return str(int(exposure_time)) + \"s\"\n",
    "    elif int(exposure_time*1000) == exposure_time*1000:\n",
    "        return str(int(exposure_time*1000)) + \"ms\""
   ]
  },
  {
   "cell_type": "markdown",
   "metadata": {},
   "source": [
    "### Create Master Calibration Files"
   ]
  },
  {
   "cell_type": "code",
   "execution_count": 169,
   "metadata": {},
   "outputs": [
    {
     "data": {
      "text/html": [
       "<pre style=\"white-space:pre;overflow-x:auto;line-height:normal;font-family:Menlo,'DejaVu Sans Mono',consolas,'Courier New',monospace\"><span style=\"color: #7fbfbf; text-decoration-color: #7fbfbf\">[06/27/22 11:00:15] </span><span style=\"color: #000080; text-decoration-color: #000080\">INFO    </span> Created Master Bias from <span style=\"color: #008080; text-decoration-color: #008080; font-weight: bold\">7</span> images -&gt;              <a href=\"file:///var/folders/5d/bvscdv6j3d71wbxsvd8zwbs80000gn/T/ipykernel_956/893417008.py\"><span style=\"color: #7f7f7f; text-decoration-color: #7f7f7f\">893417008.py</span></a><span style=\"color: #7f7f7f; text-decoration-color: #7f7f7f\">:8</span>\n",
       "                             ProcessedData/MasterBias.fits                                   \n",
       "</pre>\n"
      ],
      "text/plain": [
       "<rich.jupyter.JupyterRenderable at 0x143e63430>"
      ]
     },
     "metadata": {},
     "output_type": "display_data"
    }
   ],
   "source": [
    "# create master bias\n",
    "raw_biases = raw_images.files_filtered(IMTYPE=\"Bias\", include_path=True)\n",
    "master_filename = os.path.join(processed_data_path, \"MasterBias.fits\")\n",
    "\n",
    "master_bias = ccdproc.combine(raw_biases, method=\"median\", unit=\"adu\")\n",
    "master_bias.write(master_filename, overwrite=True)\n",
    "\n",
    "log.info(\"Created Master Bias from {0} images -> {1}\".format(len(raw_biases), master_filename))\n",
    "\n",
    "# TODO: Remove/configure the overwrite function"
   ]
  },
  {
   "cell_type": "code",
   "execution_count": 170,
   "metadata": {},
   "outputs": [
    {
     "data": {
      "text/html": [
       "<pre style=\"white-space:pre;overflow-x:auto;line-height:normal;font-family:Menlo,'DejaVu Sans Mono',consolas,'Courier New',monospace\"><span style=\"color: #7fbfbf; text-decoration-color: #7fbfbf\">[06/27/22 11:01:21] </span><span style=\"color: #000080; text-decoration-color: #000080\">INFO    </span> Created 2s Master Dark from <span style=\"color: #008080; text-decoration-color: #008080; font-weight: bold\">3</span> images -&gt;          <a href=\"file:///var/folders/5d/bvscdv6j3d71wbxsvd8zwbs80000gn/T/ipykernel_956/199087280.py\"><span style=\"color: #7f7f7f; text-decoration-color: #7f7f7f\">199087280.py</span></a><span style=\"color: #7f7f7f; text-decoration-color: #7f7f7f\">:15</span>\n",
       "                             ProcessedData/MasterDark2ss.fits                                \n",
       "</pre>\n"
      ],
      "text/plain": [
       "<rich.jupyter.JupyterRenderable at 0x15a3ac0d0>"
      ]
     },
     "metadata": {},
     "output_type": "display_data"
    },
    {
     "data": {
      "text/html": [
       "<pre style=\"white-space:pre;overflow-x:auto;line-height:normal;font-family:Menlo,'DejaVu Sans Mono',consolas,'Courier New',monospace\"><span style=\"color: #7fbfbf; text-decoration-color: #7fbfbf\">[06/27/22 11:01:23] </span><span style=\"color: #000080; text-decoration-color: #000080\">INFO    </span> Created 3s Master Dark from <span style=\"color: #008080; text-decoration-color: #008080; font-weight: bold\">3</span> images -&gt;          <a href=\"file:///var/folders/5d/bvscdv6j3d71wbxsvd8zwbs80000gn/T/ipykernel_956/199087280.py\"><span style=\"color: #7f7f7f; text-decoration-color: #7f7f7f\">199087280.py</span></a><span style=\"color: #7f7f7f; text-decoration-color: #7f7f7f\">:15</span>\n",
       "                             ProcessedData/MasterDark3ss.fits                                \n",
       "</pre>\n"
      ],
      "text/plain": [
       "<rich.jupyter.JupyterRenderable at 0x15b140850>"
      ]
     },
     "metadata": {},
     "output_type": "display_data"
    },
    {
     "data": {
      "text/html": [
       "<pre style=\"white-space:pre;overflow-x:auto;line-height:normal;font-family:Menlo,'DejaVu Sans Mono',consolas,'Courier New',monospace\"><span style=\"color: #7fbfbf; text-decoration-color: #7fbfbf\">[06/27/22 11:01:26] </span><span style=\"color: #000080; text-decoration-color: #000080\">INFO    </span> Created 300s Master Dark from <span style=\"color: #008080; text-decoration-color: #008080; font-weight: bold\">3</span> images -&gt;        <a href=\"file:///var/folders/5d/bvscdv6j3d71wbxsvd8zwbs80000gn/T/ipykernel_956/199087280.py\"><span style=\"color: #7f7f7f; text-decoration-color: #7f7f7f\">199087280.py</span></a><span style=\"color: #7f7f7f; text-decoration-color: #7f7f7f\">:15</span>\n",
       "                             ProcessedData/MasterDark300ss.fits                              \n",
       "</pre>\n"
      ],
      "text/plain": [
       "<rich.jupyter.JupyterRenderable at 0x143a8a460>"
      ]
     },
     "metadata": {},
     "output_type": "display_data"
    },
    {
     "data": {
      "text/html": [
       "<pre style=\"white-space:pre;overflow-x:auto;line-height:normal;font-family:Menlo,'DejaVu Sans Mono',consolas,'Courier New',monospace\"><span style=\"color: #7fbfbf; text-decoration-color: #7fbfbf\">[06/27/22 11:01:28] </span><span style=\"color: #000080; text-decoration-color: #000080\">INFO    </span> Created 5s Master Dark from <span style=\"color: #008080; text-decoration-color: #008080; font-weight: bold\">3</span> images -&gt;          <a href=\"file:///var/folders/5d/bvscdv6j3d71wbxsvd8zwbs80000gn/T/ipykernel_956/199087280.py\"><span style=\"color: #7f7f7f; text-decoration-color: #7f7f7f\">199087280.py</span></a><span style=\"color: #7f7f7f; text-decoration-color: #7f7f7f\">:15</span>\n",
       "                             ProcessedData/MasterDark5ss.fits                                \n",
       "</pre>\n"
      ],
      "text/plain": [
       "<rich.jupyter.JupyterRenderable at 0x13f6061f0>"
      ]
     },
     "metadata": {},
     "output_type": "display_data"
    }
   ],
   "source": [
    "# create master darks\n",
    "dark_times = set([CCDData.read(t, unit=\"adu\").meta.get(\"EXPTIME\") for t in list(raw_images.files_filtered(IMTYPE=\"Dark\", include_path=True))])\n",
    "master_darks = {}\n",
    "\n",
    "for time in dark_times:\n",
    "    selected_darks = raw_images.files_filtered(EXPTIME=time, IMTYPE=\"Dark\", include_path=True)\n",
    "    save_time = exp_time_to_str(time)\n",
    "    master_filename = os.path.join(processed_data_path, \"MasterDark{0}s.fits\".format(save_time))\n",
    "\n",
    "    master_dark = ccdproc.combine(selected_darks, method=\"median\", unit=\"adu\")\n",
    "    master_dark.write(master_filename, overwrite=True)\n",
    "\n",
    "    master_darks[save_time] = CCDData.read(master_filename)\n",
    "\n",
    "    log.info(\"Created {0} Master Dark from {1} images -> {2}\".format(save_time, len(selected_darks), master_filename))"
   ]
  },
  {
   "cell_type": "code",
   "execution_count": 171,
   "metadata": {},
   "outputs": [
    {
     "data": {
      "text/html": [
       "<pre style=\"white-space:pre;overflow-x:auto;line-height:normal;font-family:Menlo,'DejaVu Sans Mono',consolas,'Courier New',monospace\"><span style=\"color: #7fbfbf; text-decoration-color: #7fbfbf\">[06/27/22 11:02:51] </span><span style=\"color: #000080; text-decoration-color: #000080\">INFO    </span> Created R 3s Master Flat from <span style=\"color: #008080; text-decoration-color: #008080; font-weight: bold\">3</span> images -&gt;        <a href=\"file:///var/folders/5d/bvscdv6j3d71wbxsvd8zwbs80000gn/T/ipykernel_956/650153254.py\"><span style=\"color: #7f7f7f; text-decoration-color: #7f7f7f\">650153254.py</span></a><span style=\"color: #7f7f7f; text-decoration-color: #7f7f7f\">:34</span>\n",
       "                             ProcessedData/MasterFlatR.fits                                  \n",
       "</pre>\n"
      ],
      "text/plain": [
       "<rich.jupyter.JupyterRenderable at 0x15b1402e0>"
      ]
     },
     "metadata": {},
     "output_type": "display_data"
    },
    {
     "data": {
      "text/html": [
       "<pre style=\"white-space:pre;overflow-x:auto;line-height:normal;font-family:Menlo,'DejaVu Sans Mono',consolas,'Courier New',monospace\"><span style=\"color: #7fbfbf; text-decoration-color: #7fbfbf\">[06/27/22 11:02:54] </span><span style=\"color: #000080; text-decoration-color: #000080\">INFO    </span> Created B 3s Master Flat from <span style=\"color: #008080; text-decoration-color: #008080; font-weight: bold\">3</span> images -&gt;        <a href=\"file:///var/folders/5d/bvscdv6j3d71wbxsvd8zwbs80000gn/T/ipykernel_956/650153254.py\"><span style=\"color: #7f7f7f; text-decoration-color: #7f7f7f\">650153254.py</span></a><span style=\"color: #7f7f7f; text-decoration-color: #7f7f7f\">:34</span>\n",
       "                             ProcessedData/MasterFlatB.fits                                  \n",
       "</pre>\n"
      ],
      "text/plain": [
       "<rich.jupyter.JupyterRenderable at 0x15a9e7c10>"
      ]
     },
     "metadata": {},
     "output_type": "display_data"
    },
    {
     "data": {
      "text/html": [
       "<pre style=\"white-space:pre;overflow-x:auto;line-height:normal;font-family:Menlo,'DejaVu Sans Mono',consolas,'Courier New',monospace\"><span style=\"color: #7fbfbf; text-decoration-color: #7fbfbf\">[06/27/22 11:02:56] </span><span style=\"color: #000080; text-decoration-color: #000080\">INFO    </span> Created G 3s Master Flat from <span style=\"color: #008080; text-decoration-color: #008080; font-weight: bold\">3</span> images -&gt;        <a href=\"file:///var/folders/5d/bvscdv6j3d71wbxsvd8zwbs80000gn/T/ipykernel_956/650153254.py\"><span style=\"color: #7f7f7f; text-decoration-color: #7f7f7f\">650153254.py</span></a><span style=\"color: #7f7f7f; text-decoration-color: #7f7f7f\">:34</span>\n",
       "                             ProcessedData/MasterFlatG.fits                                  \n",
       "</pre>\n"
      ],
      "text/plain": [
       "<rich.jupyter.JupyterRenderable at 0x15a9c76d0>"
      ]
     },
     "metadata": {},
     "output_type": "display_data"
    }
   ],
   "source": [
    "# create master flats\n",
    "# list from the filter format above (WIP)\n",
    "raw_flats = {f:[] for f in [\"R\", \"B\", \"G\", \"BR\", \"BG\", \"BB\", \"I\", \"H3\", \"S2\", \"HA\", \"HB\", \"CLEAR\"]}\n",
    "\n",
    "# sort raw flats into the raw flats dict using above formatting (index 1 = filter)\n",
    "for flat in list(raw_images.files_filtered(IMTYPE=\"Flat\")) + list(raw_images.files_filtered(IMTYPE=\"Sky\")):\n",
    "    flat_filter = flat.split(\"_\")[1].upper()\n",
    "\n",
    "    if flat_filter in raw_flats:\n",
    "        raw_flats[flat_filter].append(os.path.join(raw_data_path, flat))\n",
    "\n",
    "# create master flats\n",
    "master_flats = {}\n",
    "\n",
    "for flat_filter, raw_list in raw_flats.items():\n",
    "    # find all unique exposure times in the flat files\n",
    "    flat_times = list(set(CCDData.read(os.path.join(t), unit=\"adu\").meta.get(\"EXPTIME\") for t in raw_list))\n",
    "\n",
    "    # checks for uniformity in flat times and skips non-uniform flat collections\n",
    "    # TODO: Handle this better (may not be neccesary but consider it)\n",
    "    if len(flat_times) != 1:\n",
    "        continue\n",
    "\n",
    "    flat_time = flat_times[0]\n",
    "    master_filename = os.path.join(processed_data_path, \"MasterFlat{0}.fits\".format(flat_filter))\n",
    "\n",
    "    master_flat = ccdproc.combine(raw_list, method=\"median\", unit=\"adu\")\n",
    "    master_flat = ccdproc.subtract_bias(master_flat, master_bias)\n",
    "    master_flat = ccdproc.subtract_dark(master_flat, master_darks[exp_time_to_str(flat_time)], dark_exposure=flat_time * units.second, data_exposure=flat_time * units.second)\n",
    "    master_flat.write(master_filename, overwrite=True)\n",
    "\n",
    "    master_flats[flat_filter] = CCDData.read(master_filename)\n",
    "\n",
    "    log.info(\"Created {0} {1} Master Flat from {2} images -> {3}\".format(flat_filter, exp_time_to_str(flat_time), len(raw_list), master_filename))\n",
    "\n",
    "# TODO: Fill out filter list"
   ]
  },
  {
   "cell_type": "markdown",
   "metadata": {},
   "source": [
    "### Reduce Raw Lights"
   ]
  },
  {
   "cell_type": "code",
   "execution_count": 172,
   "metadata": {},
   "outputs": [
    {
     "data": {
      "text/html": [
       "<pre style=\"white-space:pre;overflow-x:auto;line-height:normal;font-family:Menlo,'DejaVu Sans Mono',consolas,'Courier New',monospace\"><span style=\"color: #7fbfbf; text-decoration-color: #7fbfbf\">[06/27/22 11:04:25] </span><span style=\"color: #000080; text-decoration-color: #000080\">INFO    </span> Reduced M104_B_5m_001.fits using B Filter 300s  <a href=\"file:///var/folders/5d/bvscdv6j3d71wbxsvd8zwbs80000gn/T/ipykernel_956/3470525013.py\"><span style=\"color: #7f7f7f; text-decoration-color: #7f7f7f\">3470525013.py</span></a><span style=\"color: #7f7f7f; text-decoration-color: #7f7f7f\">:30</span>\n",
       "                             Exposure SombreroGalaxy Object -&gt; ProcessedData                 \n",
       "                             /SombreroGalaxy/Reduced_M104_B_5m_001.fits                      \n",
       "</pre>\n"
      ],
      "text/plain": [
       "<rich.jupyter.JupyterRenderable at 0x15a9ee340>"
      ]
     },
     "metadata": {},
     "output_type": "display_data"
    },
    {
     "data": {
      "text/html": [
       "<pre style=\"white-space:pre;overflow-x:auto;line-height:normal;font-family:Menlo,'DejaVu Sans Mono',consolas,'Courier New',monospace\"><span style=\"color: #7fbfbf; text-decoration-color: #7fbfbf\">[06/27/22 11:04:26] </span><span style=\"color: #000080; text-decoration-color: #000080\">INFO    </span> Reduced M104_B_5m_002.fits using B Filter 300s  <a href=\"file:///var/folders/5d/bvscdv6j3d71wbxsvd8zwbs80000gn/T/ipykernel_956/3470525013.py\"><span style=\"color: #7f7f7f; text-decoration-color: #7f7f7f\">3470525013.py</span></a><span style=\"color: #7f7f7f; text-decoration-color: #7f7f7f\">:30</span>\n",
       "                             Exposure SombreroGalaxy Object -&gt; ProcessedData                 \n",
       "                             /SombreroGalaxy/Reduced_M104_B_5m_002.fits                      \n",
       "</pre>\n"
      ],
      "text/plain": [
       "<rich.jupyter.JupyterRenderable at 0x15a9ee6d0>"
      ]
     },
     "metadata": {},
     "output_type": "display_data"
    },
    {
     "data": {
      "text/html": [
       "<pre style=\"white-space:pre;overflow-x:auto;line-height:normal;font-family:Menlo,'DejaVu Sans Mono',consolas,'Courier New',monospace\"><span style=\"color: #7fbfbf; text-decoration-color: #7fbfbf\">[06/27/22 11:04:27] </span><span style=\"color: #000080; text-decoration-color: #000080\">INFO    </span> Reduced M104_B_5m_003.fits using B Filter 300s  <a href=\"file:///var/folders/5d/bvscdv6j3d71wbxsvd8zwbs80000gn/T/ipykernel_956/3470525013.py\"><span style=\"color: #7f7f7f; text-decoration-color: #7f7f7f\">3470525013.py</span></a><span style=\"color: #7f7f7f; text-decoration-color: #7f7f7f\">:30</span>\n",
       "                             Exposure SombreroGalaxy Object -&gt; ProcessedData                 \n",
       "                             /SombreroGalaxy/Reduced_M104_B_5m_003.fits                      \n",
       "</pre>\n"
      ],
      "text/plain": [
       "<rich.jupyter.JupyterRenderable at 0x15aa54fd0>"
      ]
     },
     "metadata": {},
     "output_type": "display_data"
    },
    {
     "data": {
      "text/html": [
       "<pre style=\"white-space:pre;overflow-x:auto;line-height:normal;font-family:Menlo,'DejaVu Sans Mono',consolas,'Courier New',monospace\"><span style=\"color: #7fbfbf; text-decoration-color: #7fbfbf\">                    </span><span style=\"color: #000080; text-decoration-color: #000080\">INFO    </span> Reduced M104_B_5m_004.fits using B Filter 300s  <a href=\"file:///var/folders/5d/bvscdv6j3d71wbxsvd8zwbs80000gn/T/ipykernel_956/3470525013.py\"><span style=\"color: #7f7f7f; text-decoration-color: #7f7f7f\">3470525013.py</span></a><span style=\"color: #7f7f7f; text-decoration-color: #7f7f7f\">:30</span>\n",
       "                             Exposure SombreroGalaxy Object -&gt; ProcessedData                 \n",
       "                             /SombreroGalaxy/Reduced_M104_B_5m_004.fits                      \n",
       "</pre>\n"
      ],
      "text/plain": [
       "<rich.jupyter.JupyterRenderable at 0x15a9f9040>"
      ]
     },
     "metadata": {},
     "output_type": "display_data"
    },
    {
     "data": {
      "text/html": [
       "<pre style=\"white-space:pre;overflow-x:auto;line-height:normal;font-family:Menlo,'DejaVu Sans Mono',consolas,'Courier New',monospace\"><span style=\"color: #7fbfbf; text-decoration-color: #7fbfbf\">[06/27/22 11:04:28] </span><span style=\"color: #000080; text-decoration-color: #000080\">INFO    </span> Reduced M104_G_5m_001.fits using G Filter 300s  <a href=\"file:///var/folders/5d/bvscdv6j3d71wbxsvd8zwbs80000gn/T/ipykernel_956/3470525013.py\"><span style=\"color: #7f7f7f; text-decoration-color: #7f7f7f\">3470525013.py</span></a><span style=\"color: #7f7f7f; text-decoration-color: #7f7f7f\">:30</span>\n",
       "                             Exposure SombreroGalaxy Object -&gt; ProcessedData                 \n",
       "                             /SombreroGalaxy/Reduced_M104_G_5m_001.fits                      \n",
       "</pre>\n"
      ],
      "text/plain": [
       "<rich.jupyter.JupyterRenderable at 0x15b212c40>"
      ]
     },
     "metadata": {},
     "output_type": "display_data"
    },
    {
     "data": {
      "text/html": [
       "<pre style=\"white-space:pre;overflow-x:auto;line-height:normal;font-family:Menlo,'DejaVu Sans Mono',consolas,'Courier New',monospace\"><span style=\"color: #7fbfbf; text-decoration-color: #7fbfbf\">                    </span><span style=\"color: #000080; text-decoration-color: #000080\">INFO    </span> Reduced M104_G_5m_002.fits using G Filter 300s  <a href=\"file:///var/folders/5d/bvscdv6j3d71wbxsvd8zwbs80000gn/T/ipykernel_956/3470525013.py\"><span style=\"color: #7f7f7f; text-decoration-color: #7f7f7f\">3470525013.py</span></a><span style=\"color: #7f7f7f; text-decoration-color: #7f7f7f\">:30</span>\n",
       "                             Exposure SombreroGalaxy Object -&gt; ProcessedData                 \n",
       "                             /SombreroGalaxy/Reduced_M104_G_5m_002.fits                      \n",
       "</pre>\n"
      ],
      "text/plain": [
       "<rich.jupyter.JupyterRenderable at 0x15b1e59d0>"
      ]
     },
     "metadata": {},
     "output_type": "display_data"
    },
    {
     "data": {
      "text/html": [
       "<pre style=\"white-space:pre;overflow-x:auto;line-height:normal;font-family:Menlo,'DejaVu Sans Mono',consolas,'Courier New',monospace\"><span style=\"color: #7fbfbf; text-decoration-color: #7fbfbf\">[06/27/22 11:04:29] </span><span style=\"color: #000080; text-decoration-color: #000080\">INFO    </span> Reduced M104_G_5m_003.fits using G Filter 300s  <a href=\"file:///var/folders/5d/bvscdv6j3d71wbxsvd8zwbs80000gn/T/ipykernel_956/3470525013.py\"><span style=\"color: #7f7f7f; text-decoration-color: #7f7f7f\">3470525013.py</span></a><span style=\"color: #7f7f7f; text-decoration-color: #7f7f7f\">:30</span>\n",
       "                             Exposure SombreroGalaxy Object -&gt; ProcessedData                 \n",
       "                             /SombreroGalaxy/Reduced_M104_G_5m_003.fits                      \n",
       "</pre>\n"
      ],
      "text/plain": [
       "<rich.jupyter.JupyterRenderable at 0x15b153190>"
      ]
     },
     "metadata": {},
     "output_type": "display_data"
    },
    {
     "data": {
      "text/html": [
       "<pre style=\"white-space:pre;overflow-x:auto;line-height:normal;font-family:Menlo,'DejaVu Sans Mono',consolas,'Courier New',monospace\"><span style=\"color: #7fbfbf; text-decoration-color: #7fbfbf\">[06/27/22 11:04:30] </span><span style=\"color: #000080; text-decoration-color: #000080\">INFO    </span> Reduced M104_R_5m_001.fits using R Filter 300s  <a href=\"file:///var/folders/5d/bvscdv6j3d71wbxsvd8zwbs80000gn/T/ipykernel_956/3470525013.py\"><span style=\"color: #7f7f7f; text-decoration-color: #7f7f7f\">3470525013.py</span></a><span style=\"color: #7f7f7f; text-decoration-color: #7f7f7f\">:30</span>\n",
       "                             Exposure SombreroGalaxy Object -&gt; ProcessedData                 \n",
       "                             /SombreroGalaxy/Reduced_M104_R_5m_001.fits                      \n",
       "</pre>\n"
      ],
      "text/plain": [
       "<rich.jupyter.JupyterRenderable at 0x13f587fd0>"
      ]
     },
     "metadata": {},
     "output_type": "display_data"
    },
    {
     "data": {
      "text/html": [
       "<pre style=\"white-space:pre;overflow-x:auto;line-height:normal;font-family:Menlo,'DejaVu Sans Mono',consolas,'Courier New',monospace\"><span style=\"color: #7fbfbf; text-decoration-color: #7fbfbf\">                    </span><span style=\"color: #000080; text-decoration-color: #000080\">INFO    </span> Reduced M104_R_5m_002.fits using R Filter 300s  <a href=\"file:///var/folders/5d/bvscdv6j3d71wbxsvd8zwbs80000gn/T/ipykernel_956/3470525013.py\"><span style=\"color: #7f7f7f; text-decoration-color: #7f7f7f\">3470525013.py</span></a><span style=\"color: #7f7f7f; text-decoration-color: #7f7f7f\">:30</span>\n",
       "                             Exposure SombreroGalaxy Object -&gt; ProcessedData                 \n",
       "                             /SombreroGalaxy/Reduced_M104_R_5m_002.fits                      \n",
       "</pre>\n"
      ],
      "text/plain": [
       "<rich.jupyter.JupyterRenderable at 0x15a3b6af0>"
      ]
     },
     "metadata": {},
     "output_type": "display_data"
    },
    {
     "data": {
      "text/html": [
       "<pre style=\"white-space:pre;overflow-x:auto;line-height:normal;font-family:Menlo,'DejaVu Sans Mono',consolas,'Courier New',monospace\"><span style=\"color: #7fbfbf; text-decoration-color: #7fbfbf\">[06/27/22 11:04:31] </span><span style=\"color: #000080; text-decoration-color: #000080\">INFO    </span> Reduced M104_R_5m_003.fits using R Filter 300s  <a href=\"file:///var/folders/5d/bvscdv6j3d71wbxsvd8zwbs80000gn/T/ipykernel_956/3470525013.py\"><span style=\"color: #7f7f7f; text-decoration-color: #7f7f7f\">3470525013.py</span></a><span style=\"color: #7f7f7f; text-decoration-color: #7f7f7f\">:30</span>\n",
       "                             Exposure SombreroGalaxy Object -&gt; ProcessedData                 \n",
       "                             /SombreroGalaxy/Reduced_M104_R_5m_003.fits                      \n",
       "</pre>\n"
      ],
      "text/plain": [
       "<rich.jupyter.JupyterRenderable at 0x15a9f9040>"
      ]
     },
     "metadata": {},
     "output_type": "display_data"
    }
   ],
   "source": [
    "# reduce lights\n",
    "# get all unique objects\n",
    "objects_list = set([CCDData.read(l, unit=\"adu\").meta.get(\"OBJECT\") for l in raw_images.files_filtered(IMTYPE=\"Light\", include_path=True)])\n",
    "\n",
    "for obj_observed in objects_list:\n",
    "    obj_name = obj_observed.strip().replace(\" \", \"\")\n",
    "    obj_save_dir = os.path.join(processed_data_path, obj_name)\n",
    "    os.makedirs(obj_save_dir, exist_ok=True)\n",
    "\n",
    "    for image in raw_images.files_filtered(IMTYPE=\"Light\", OBJECT=obj_observed):\n",
    "        ccd_image = CCDData.read(os.path.join(raw_data_path, image), unit=\"adu\")\n",
    "        reduced_filename = os.path.join(obj_save_dir, \"Reduced_\" + image)\n",
    "        exposure_time = ccd_image.meta.get(\"EXPTIME\")\n",
    "        exposure_string = exp_time_to_str(exposure_time)\n",
    "        image_filter = image.split(\"_\")[1].upper()\n",
    "\n",
    "        # ensure the exposure time has been processed\n",
    "        if exposure_string not in master_darks:\n",
    "            continue\n",
    "\n",
    "        # ensure the filter has been processed\n",
    "        if image_filter not in master_flats:\n",
    "            continue\n",
    "\n",
    "        reduced = ccdproc.subtract_bias(ccd_image, master_bias)\n",
    "        reduced = ccdproc.subtract_dark(reduced, master_darks[exposure_string], dark_exposure=exposure_time * units.second, data_exposure=exposure_time * units.second)\n",
    "        reduced = ccdproc.flat_correct(reduced, master_flats[image_filter])\n",
    "        reduced.write(reduced_filename, overwrite=True)\n",
    "\n",
    "        log.info(\"Reduced {0} using {1} Filter {2} Exposure {3} Object -> {4}\".format(image, image_filter, exposure_string, obj_name, reduced_filename))\n",
    "\n",
    "# TODO: Add logging throughout\n",
    "        "
   ]
  },
  {
   "cell_type": "code",
   "execution_count": null,
   "metadata": {},
   "outputs": [],
   "source": []
  }
 ],
 "metadata": {
  "kernelspec": {
   "display_name": "Python 3.9.8 64-bit",
   "language": "python",
   "name": "python3"
  },
  "language_info": {
   "codemirror_mode": {
    "name": "ipython",
    "version": 3
   },
   "file_extension": ".py",
   "mimetype": "text/x-python",
   "name": "python",
   "nbconvert_exporter": "python",
   "pygments_lexer": "ipython3",
   "version": "3.9.8"
  },
  "orig_nbformat": 4,
  "vscode": {
   "interpreter": {
    "hash": "aee8b7b246df8f9039afb4144a1f6fd8d2ca17a180786b69acc140d282b71a49"
   }
  }
 },
 "nbformat": 4,
 "nbformat_minor": 2
}
