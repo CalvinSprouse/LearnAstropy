{
 "cells": [
  {
   "cell_type": "markdown",
   "metadata": {},
   "source": [
    "__FILE NAME FORMAT__:\n",
    "{ImageType}\\_{Filter}\\_{ExposureTime}\\_{FileNumber}.fits\n",
    "\n",
    "__FILTER NAME FORMAT__:\n",
    "- Red = R\n",
    "- Blue = B\n",
    "- Green = G\n",
    "- Bessel R = BR\n",
    "- Bessel B = BB\n",
    "- Bessel G = BG\n",
    "- None = CLEAR\n",
    "- OIII = O3\n",
    "- SII = S2\n",
    "- Infrared = I\n",
    "- Bessel Infrared = BI\n",
    "- UV = UV\n",
    "- Bessel UV = BUV\n",
    "- H Beta = HB\n",
    "- H Alpha = HA"
   ]
  },
  {
   "cell_type": "markdown",
   "metadata": {},
   "source": [
    "### Configurations"
   ]
  },
  {
   "cell_type": "code",
   "execution_count": 143,
   "metadata": {},
   "outputs": [],
   "source": [
    "# imports\n",
    "from astropy.nddata import CCDData\n",
    "from astropy.stats import mad_std\n",
    "from astropy.utils.exceptions import AstropyWarning\n",
    "from astropy import units\n",
    "from pathlib import Path\n",
    "\n",
    "import ccdproc\n",
    "import logging\n",
    "import matplotlib.pyplot as plt\n",
    "import numpy as np\n",
    "import sys\n",
    "import os\n",
    "import warnings"
   ]
  },
  {
   "cell_type": "code",
   "execution_count": 81,
   "metadata": {},
   "outputs": [],
   "source": [
    "# logging configurations\n",
    "# suppresses the fits fixed warning (annoying)\n",
    "warnings.filterwarnings(\"ignore\", category=AstropyWarning, append=True)\n",
    "\n",
    "# configure loggers\n",
    "# outputs to terminal but will save any errors to a log\n",
    "log = logging.Logger(name=\"DataReducerLog\")\n",
    "formatter = logging.Formatter(\"%(name)s|%(asctime)s|[%(levelname)s]|:%(message)s\")\n",
    "log.setLevel(logging.DEBUG)\n",
    "\n",
    "stream_handler = RichHandler()\n",
    "stream_handler.setLevel(logging.DEBUG) # change this to change terminal readout\n",
    "file_handler = logging.FileHandler(filename=\"debug.log\", delay=True)\n",
    "file_handler.setFormatter(formatter)\n",
    "file_handler.setLevel(logging.ERROR) # change this to change what is logged to file\n",
    "\n",
    "log.addHandler(stream_handler)\n",
    "log.addHandler(file_handler)"
   ]
  },
  {
   "cell_type": "code",
   "execution_count": 80,
   "metadata": {},
   "outputs": [],
   "source": [
    "# configure file directies (for testing)\n",
    "# TODO: Find better method/make this more configurable\n",
    "# consider having this run from the raw data directory and just have the processed\n",
    "# output nested within\n",
    "raw_data_path = Path(\"RawData\")\n",
    "processed_data_path = Path(\"ProcessedData\")\n",
    "# ensure the processed data dir is there\n",
    "os.makedirs(processed_data_path, exist_ok=True)"
   ]
  },
  {
   "cell_type": "markdown",
   "metadata": {},
   "source": [
    "### Load Data"
   ]
  },
  {
   "cell_type": "code",
   "execution_count": 83,
   "metadata": {},
   "outputs": [],
   "source": [
    "# load and sort data from raw data directory\n",
    "raw_images = ccdproc.ImageFileCollection(raw_data_path)"
   ]
  },
  {
   "cell_type": "markdown",
   "metadata": {},
   "source": [
    "### Prepare Functions"
   ]
  },
  {
   "cell_type": "code",
   "execution_count": 133,
   "metadata": {},
   "outputs": [],
   "source": [
    "def exp_time_to_str(exposure_time):\n",
    "    if int(exposure_time) == exposure_time:\n",
    "        return str(int(exposure_time)) + \"s\"\n",
    "    elif int(exposure_time*1000) == exposure_time*1000:\n",
    "        return str(int(exposure_time*1000)) + \"ms\""
   ]
  },
  {
   "cell_type": "markdown",
   "metadata": {},
   "source": [
    "### Create Master Calibration Files"
   ]
  },
  {
   "cell_type": "code",
   "execution_count": 91,
   "metadata": {},
   "outputs": [],
   "source": [
    "# create master bias\n",
    "raw_biases = raw_images.files_filtered(IMTYPE=\"Bias\", include_path=True)\n",
    "master_filename = os.path.join(processed_data_path, \"MasterBias.fits\")\n",
    "\n",
    "master_bias = ccdproc.combine(raw_biases, method=\"median\", unit=\"adu\")\n",
    "master_bias.write(master_filename, overwrite=True)\n",
    "\n",
    "# TODO: Remove/configure the overwrite function"
   ]
  },
  {
   "cell_type": "code",
   "execution_count": 142,
   "metadata": {},
   "outputs": [],
   "source": [
    "# create master darks\n",
    "dark_times = set([CCDData.read(t, unit=\"adu\").meta.get(\"EXPTIME\") for t in list(raw_images.files_filtered(IMTYPE=\"Dark\", include_path=True))])\n",
    "master_darks = {}\n",
    "\n",
    "for time in dark_times:\n",
    "    selected_darks = raw_images.files_filtered(EXPTIME=time, IMTYPE=\"Dark\", include_path=True)\n",
    "    save_time = exp_time_to_str(time)\n",
    "    master_filename = os.path.join(processed_data_path, \"MasterDark{0}s.fits\".format(save_time))\n",
    "\n",
    "    master_dark = ccdproc.combine(selected_darks, method=\"median\", unit=\"adu\")\n",
    "    master_dark.write(master_filename, overwrite=True)\n",
    "\n",
    "    master_darks[save_time] = CCDData.read(master_filename)"
   ]
  },
  {
   "cell_type": "code",
   "execution_count": 139,
   "metadata": {},
   "outputs": [],
   "source": [
    "# create master flats\n",
    "# list from the filter format above (WIP)\n",
    "raw_flats = {f:[] for f in [\"R\", \"B\", \"G\", \"BR\", \"BG\", \"BB\", \"I\", \"H3\", \"S2\", \"HA\", \"HB\", \"CLEAR\"]}\n",
    "\n",
    "# sort raw flats into the raw flats dict using above formatting (index 1 = filter)\n",
    "for flat in list(raw_images.files_filtered(IMTYPE=\"Flat\")) + list(raw_images.files_filtered(IMTYPE=\"Sky\")):\n",
    "    flat_filter = flat.split(\"_\")[1]\n",
    "\n",
    "    if flat_filter.upper() in raw_flats:\n",
    "        raw_flats[flat_filter.upper()].append(os.path.join(raw_data_path, flat))\n",
    "\n",
    "# create master flats\n",
    "master_flats = {}\n",
    "\n",
    "for flat_filter, raw_list in raw_flats.items():\n",
    "    # find all unique exposure times in the flat files\n",
    "    flat_times = list(set(CCDData.read(os.path.join(t), unit=\"adu\").meta.get(\"EXPTIME\") for t in raw_list))\n",
    "\n",
    "    # checks for uniformity in flat times and skips non-uniform flat collections\n",
    "    # TODO: Handle this better (may not be neccesary but consider it)\n",
    "    if len(flat_times) != 1:\n",
    "        continue\n",
    "\n",
    "    flat_time = flat_times[0]\n",
    "    master_filename = os.path.join(processed_data_path, \"MasterFlat{0}.fits\".format(flat_filter))\n",
    "\n",
    "    master_flat = ccdproc.combine(raw_list, method=\"median\", unit=\"adu\")\n",
    "    master_flat = ccdproc.subtract_bias(master_flat, master_bias)\n",
    "    master_flat = ccdproc.subtract_dark(master_flat, master_darks[exp_time_to_str(flat_time)], dark_exposure=flat_time * units.second, data_exposure=flat_time * units.second)\n",
    "    master_flat.write(master_filename, overwrite=True)\n",
    "\n",
    "    master_flats[flat_filter] = CCDData.read(master_filename)\n",
    "\n",
    "# TODO: Fill out filter list"
   ]
  },
  {
   "cell_type": "markdown",
   "metadata": {},
   "source": [
    "### Reduce Raw Lights"
   ]
  },
  {
   "cell_type": "markdown",
   "metadata": {},
   "source": []
  }
 ],
 "metadata": {
  "kernelspec": {
   "display_name": "Python 3.9.8 64-bit",
   "language": "python",
   "name": "python3"
  },
  "language_info": {
   "codemirror_mode": {
    "name": "ipython",
    "version": 3
   },
   "file_extension": ".py",
   "mimetype": "text/x-python",
   "name": "python",
   "nbconvert_exporter": "python",
   "pygments_lexer": "ipython3",
   "version": "3.9.8"
  },
  "orig_nbformat": 4,
  "vscode": {
   "interpreter": {
    "hash": "aee8b7b246df8f9039afb4144a1f6fd8d2ca17a180786b69acc140d282b71a49"
   }
  }
 },
 "nbformat": 4,
 "nbformat_minor": 2
}
