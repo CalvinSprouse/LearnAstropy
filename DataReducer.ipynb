{
 "cells": [
  {
   "cell_type": "code",
   "execution_count": 2,
   "metadata": {},
   "outputs": [],
   "source": [
    "# imports\n",
    "from astropy.nddata import CCDData\n",
    "from astropy.stats import mad_std\n",
    "from astropy.utils.exceptions import AstropyWarning\n",
    "from astropy import units as u\n",
    "from pathlib import Path\n",
    "from rich.logging import RichHandler\n",
    "\n",
    "import ccdproc\n",
    "import logging\n",
    "import matplotlib.pyplot as plt\n",
    "import numpy as np\n",
    "import sys\n",
    "import os\n",
    "import warnings"
   ]
  },
  {
   "cell_type": "code",
   "execution_count": 3,
   "metadata": {},
   "outputs": [
    {
     "data": {
      "text/html": [
       "<pre style=\"white-space:pre;overflow-x:auto;line-height:normal;font-family:Menlo,'DejaVu Sans Mono',consolas,'Courier New',monospace\"><span style=\"color: #7fbfbf; text-decoration-color: #7fbfbf\">[06/26/22 21:48:51] </span><span style=\"color: #000080; text-decoration-color: #000080\">INFO    </span> Logger Established                              <a href=\"file:///var/folders/5d/bvscdv6j3d71wbxsvd8zwbs80000gn/T/ipykernel_30522/1831396281.py\"><span style=\"color: #7f7f7f; text-decoration-color: #7f7f7f\">1831396281.py</span></a><span style=\"color: #7f7f7f; text-decoration-color: #7f7f7f\">:20</span>\n",
       "</pre>\n"
      ],
      "text/plain": [
       "<rich.jupyter.JupyterRenderable at 0x139058b50>"
      ]
     },
     "metadata": {},
     "output_type": "display_data"
    }
   ],
   "source": [
    "# configurations\n",
    "# suppress fits fixed warning\n",
    "warnings.filterwarnings(\"ignore\", category=AstropyWarning, append=True)\n",
    "\n",
    "# configure logger\n",
    "# outputs to terminal but saves a log if there are errors\n",
    "log = logging.Logger(name=\"DataReducerLog\")\n",
    "formatter = logging.Formatter(\"%(name)s|%(asctime)s|[%(levelname)s]|:%(message)s\")\n",
    "log.setLevel(logging.DEBUG)\n",
    "\n",
    "stream_handler = RichHandler()\n",
    "stream_handler.setLevel(logging.DEBUG) # change this to change terminal readout\n",
    "file_handler = logging.FileHandler(filename=\"debug.log\", delay=True)\n",
    "file_handler.setFormatter(formatter)\n",
    "file_handler.setLevel(logging.ERROR) # change this to change what is logged to file\n",
    "\n",
    "log.addHandler(stream_handler)\n",
    "log.addHandler(file_handler)\n",
    "\n",
    "log.info(\"Logger Established\")"
   ]
  },
  {
   "cell_type": "code",
   "execution_count": 4,
   "metadata": {},
   "outputs": [
    {
     "data": {
      "text/html": [
       "<pre style=\"white-space:pre;overflow-x:auto;line-height:normal;font-family:Menlo,'DejaVu Sans Mono',consolas,'Courier New',monospace\"><span style=\"color: #7fbfbf; text-decoration-color: #7fbfbf\">[06/26/22 21:50:07] </span><span style=\"color: #008000; text-decoration-color: #008000\">DEBUG   </span> Raw:RawData     Processed:ProcessedData          <a href=\"file:///var/folders/5d/bvscdv6j3d71wbxsvd8zwbs80000gn/T/ipykernel_30522/3173623098.py\"><span style=\"color: #7f7f7f; text-decoration-color: #7f7f7f\">3173623098.py</span></a><span style=\"color: #7f7f7f; text-decoration-color: #7f7f7f\">:4</span>\n",
       "</pre>\n"
      ],
      "text/plain": [
       "<rich.jupyter.JupyterRenderable at 0x10da3ba60>"
      ]
     },
     "metadata": {},
     "output_type": "display_data"
    }
   ],
   "source": [
    "# configure file directories (for testing atm)\n",
    "raw_data_path = Path(\"RawData\")\n",
    "processed_data_path = Path(\"ProcessedData\")\n",
    "log.debug(\"Raw:{0}\\tProcessed:{1}\".format(raw_data_path, processed_data_path))\n",
    "\n",
    "os.makedirs(processed_data_path, exist_ok=True)"
   ]
  },
  {
   "cell_type": "code",
   "execution_count": 5,
   "metadata": {},
   "outputs": [
    {
     "data": {
      "text/html": [
       "<pre style=\"white-space:pre;overflow-x:auto;line-height:normal;font-family:Menlo,'DejaVu Sans Mono',consolas,'Courier New',monospace\"><span style=\"color: #7fbfbf; text-decoration-color: #7fbfbf\">[06/26/22 21:55:12] </span><span style=\"color: #008000; text-decoration-color: #008000\">DEBUG   </span> Loaded biases: <span style=\"font-weight: bold\">[</span><span style=\"color: #008000; text-decoration-color: #008000\">'bias_001.fits'</span>,                 <a href=\"file:///var/folders/5d/bvscdv6j3d71wbxsvd8zwbs80000gn/T/ipykernel_30522/3767449487.py\"><span style=\"color: #7f7f7f; text-decoration-color: #7f7f7f\">3767449487.py</span></a><span style=\"color: #7f7f7f; text-decoration-color: #7f7f7f\">:5</span>\n",
       "                             <span style=\"color: #008000; text-decoration-color: #008000\">'bias_002.fits'</span>, <span style=\"color: #008000; text-decoration-color: #008000\">'bias_003.fits'</span>,                               \n",
       "                             <span style=\"color: #008000; text-decoration-color: #008000\">'bias_004.fits'</span>, <span style=\"color: #008000; text-decoration-color: #008000\">'bias_005.fits'</span>,                               \n",
       "                             <span style=\"color: #008000; text-decoration-color: #008000\">'bias_006.fits'</span>, <span style=\"color: #008000; text-decoration-color: #008000\">'bias_007.fits'</span><span style=\"font-weight: bold\">]</span>                               \n",
       "</pre>\n"
      ],
      "text/plain": [
       "<rich.jupyter.JupyterRenderable at 0x13908edc0>"
      ]
     },
     "metadata": {},
     "output_type": "display_data"
    },
    {
     "data": {
      "text/html": [
       "<pre style=\"white-space:pre;overflow-x:auto;line-height:normal;font-family:Menlo,'DejaVu Sans Mono',consolas,'Courier New',monospace\"><span style=\"color: #7fbfbf; text-decoration-color: #7fbfbf\">[06/26/22 21:55:13] </span><span style=\"color: #008000; text-decoration-color: #008000\">DEBUG   </span> Loaded darks: <span style=\"font-weight: bold\">[</span><span style=\"color: #008000; text-decoration-color: #008000\">'Darks_5m_001.fits'</span>,              <a href=\"file:///var/folders/5d/bvscdv6j3d71wbxsvd8zwbs80000gn/T/ipykernel_30522/3767449487.py\"><span style=\"color: #7f7f7f; text-decoration-color: #7f7f7f\">3767449487.py</span></a><span style=\"color: #7f7f7f; text-decoration-color: #7f7f7f\">:7</span>\n",
       "                             <span style=\"color: #008000; text-decoration-color: #008000\">'Darks_5m_002.fits'</span>, <span style=\"color: #008000; text-decoration-color: #008000\">'Darks_5m_003.fits'</span>,                       \n",
       "                             <span style=\"color: #008000; text-decoration-color: #008000\">'dark_2s_001.fits'</span>, <span style=\"color: #008000; text-decoration-color: #008000\">'dark_2s_002.fits'</span>,                         \n",
       "                             <span style=\"color: #008000; text-decoration-color: #008000\">'dark_2s_003.fits'</span>, <span style=\"color: #008000; text-decoration-color: #008000\">'dark_3s_001.fits'</span>,                         \n",
       "                             <span style=\"color: #008000; text-decoration-color: #008000\">'dark_3s_002.fits'</span>, <span style=\"color: #008000; text-decoration-color: #008000\">'dark_3s_003.fits'</span>,                         \n",
       "                             <span style=\"color: #008000; text-decoration-color: #008000\">'dark_5s_001.fits'</span>, <span style=\"color: #008000; text-decoration-color: #008000\">'dark_5s_002.fits'</span>,                         \n",
       "                             <span style=\"color: #008000; text-decoration-color: #008000\">'dark_5s_003.fits'</span><span style=\"font-weight: bold\">]</span>                                             \n",
       "</pre>\n"
      ],
      "text/plain": [
       "<rich.jupyter.JupyterRenderable at 0x10da61460>"
      ]
     },
     "metadata": {},
     "output_type": "display_data"
    },
    {
     "data": {
      "text/html": [
       "<pre style=\"white-space:pre;overflow-x:auto;line-height:normal;font-family:Menlo,'DejaVu Sans Mono',consolas,'Courier New',monospace\"><span style=\"color: #7fbfbf; text-decoration-color: #7fbfbf\">                    </span><span style=\"color: #008000; text-decoration-color: #008000\">DEBUG   </span> Loaded flats: <span style=\"font-weight: bold\">[</span><span style=\"color: #008000; text-decoration-color: #008000\">'flat_B_001.fits'</span>,                <a href=\"file:///var/folders/5d/bvscdv6j3d71wbxsvd8zwbs80000gn/T/ipykernel_30522/3767449487.py\"><span style=\"color: #7f7f7f; text-decoration-color: #7f7f7f\">3767449487.py</span></a><span style=\"color: #7f7f7f; text-decoration-color: #7f7f7f\">:9</span>\n",
       "                             <span style=\"color: #008000; text-decoration-color: #008000\">'flat_B_002.fits'</span>, <span style=\"color: #008000; text-decoration-color: #008000\">'flat_B_003.fits'</span>,                           \n",
       "                             <span style=\"color: #008000; text-decoration-color: #008000\">'flat_G_001.fits'</span>, <span style=\"color: #008000; text-decoration-color: #008000\">'flat_G_002.fits'</span>,                           \n",
       "                             <span style=\"color: #008000; text-decoration-color: #008000\">'flat_G_003.fits'</span>, <span style=\"color: #008000; text-decoration-color: #008000\">'flat_Hbeta_001.fits'</span>,                       \n",
       "                             <span style=\"color: #008000; text-decoration-color: #008000\">'flat_Hbeta_002.fits'</span>, <span style=\"color: #008000; text-decoration-color: #008000\">'flat_Hbeta_003.fits'</span>,                   \n",
       "                             <span style=\"color: #008000; text-decoration-color: #008000\">'flat_OIII_002.fits'</span>, <span style=\"color: #008000; text-decoration-color: #008000\">'flat_OIII_003.fits'</span>,                     \n",
       "                             <span style=\"color: #008000; text-decoration-color: #008000\">'flat_R_001.fits'</span>, <span style=\"color: #008000; text-decoration-color: #008000\">'flat_R_002.fits'</span>,                           \n",
       "                             <span style=\"color: #008000; text-decoration-color: #008000\">'flat_R_003.fits'</span>, <span style=\"color: #008000; text-decoration-color: #008000\">'flat_SII_001.fits'</span>,                         \n",
       "                             <span style=\"color: #008000; text-decoration-color: #008000\">'flat_SII_002.fits'</span>, <span style=\"color: #008000; text-decoration-color: #008000\">'flat_SII_003.fits'</span>,                       \n",
       "                             <span style=\"color: #008000; text-decoration-color: #008000\">'flat_nofilter_001.fits'</span>,                                       \n",
       "                             <span style=\"color: #008000; text-decoration-color: #008000\">'flat_nofilter_002.fits'</span>,                                       \n",
       "                             <span style=\"color: #008000; text-decoration-color: #008000\">'flat_nofilter_003.fits'</span><span style=\"font-weight: bold\">]</span>                                       \n",
       "</pre>\n"
      ],
      "text/plain": [
       "<rich.jupyter.JupyterRenderable at 0x1390e6cd0>"
      ]
     },
     "metadata": {},
     "output_type": "display_data"
    }
   ],
   "source": [
    "# load in raw data\n",
    "# this is currently done with a glob sort, i would like it to be better\n",
    "# consider making the user have more sorting responsibility\n",
    "raw_bias = ccdproc.ImageFileCollection(location=raw_data_path, glob_include=\"[Bb]ias*\")\n",
    "log.debug(\"Loaded biases: {0}\".format(raw_bias.files))\n",
    "raw_darks = ccdproc.ImageFileCollection(location=raw_data_path, glob_include=\"[Dd]ark*\")\n",
    "log.debug(\"Loaded darks: {0}\".format(raw_darks.files))\n",
    "raw_flats = ccdproc.ImageFileCollection(location=raw_data_path, glob_include=\"[Ff]lat*\")\n",
    "log.debug(\"Loaded flats: {0}\".format(raw_flats.files))"
   ]
  },
  {
   "cell_type": "code",
   "execution_count": 6,
   "metadata": {},
   "outputs": [
    {
     "data": {
      "text/html": [
       "<pre style=\"white-space:pre;overflow-x:auto;line-height:normal;font-family:Menlo,'DejaVu Sans Mono',consolas,'Courier New',monospace\"><span style=\"color: #7fbfbf; text-decoration-color: #7fbfbf\">[06/26/22 21:55:44] </span><span style=\"color: #000080; text-decoration-color: #000080\">INFO    </span> Master bias saved to ProcessedData               <a href=\"file:///var/folders/5d/bvscdv6j3d71wbxsvd8zwbs80000gn/T/ipykernel_30522/1813474132.py\"><span style=\"color: #7f7f7f; text-decoration-color: #7f7f7f\">1813474132.py</span></a><span style=\"color: #7f7f7f; text-decoration-color: #7f7f7f\">:6</span>\n",
       "</pre>\n"
      ],
      "text/plain": [
       "<rich.jupyter.JupyterRenderable at 0x13908e1f0>"
      ]
     },
     "metadata": {},
     "output_type": "display_data"
    }
   ],
   "source": [
    "# create a master bias\n",
    "master_bias = ccdproc.combine(raw_bias.files_filtered(include_path=True), method=\"median\", unit=\"adu\")\n",
    "master_bias.meta[\"COMBINED\"] = True\n",
    "master_bias.write(Path(processed_data_path, \"MasterBias.fits\"), overwrite=True)\n",
    "# TODO: Add overwrite parameter to determine re-run behavior\n",
    "log.info(\"Master bias saved to {0}\".format(processed_data_path))"
   ]
  },
  {
   "cell_type": "code",
   "execution_count": 7,
   "metadata": {},
   "outputs": [
    {
     "data": {
      "text/html": [
       "<pre style=\"white-space:pre;overflow-x:auto;line-height:normal;font-family:Menlo,'DejaVu Sans Mono',consolas,'Courier New',monospace\"><span style=\"color: #7fbfbf; text-decoration-color: #7fbfbf\">[06/26/22 21:56:01] </span><span style=\"color: #008000; text-decoration-color: #008000\">DEBUG   </span> Found <span style=\"font-weight: bold\">{</span><span style=\"color: #008080; text-decoration-color: #008080; font-weight: bold\">2.0</span>, <span style=\"color: #008080; text-decoration-color: #008080; font-weight: bold\">3.0</span>, <span style=\"color: #008080; text-decoration-color: #008080; font-weight: bold\">300.0</span>, <span style=\"color: #008080; text-decoration-color: #008080; font-weight: bold\">5.0</span><span style=\"font-weight: bold\">}</span> as exposure times   <a href=\"file:///var/folders/5d/bvscdv6j3d71wbxsvd8zwbs80000gn/T/ipykernel_30522/1641152526.py\"><span style=\"color: #7f7f7f; text-decoration-color: #7f7f7f\">1641152526.py</span></a><span style=\"color: #7f7f7f; text-decoration-color: #7f7f7f\">:3</span>\n",
       "                             for dark images                                                 \n",
       "</pre>\n"
      ],
      "text/plain": [
       "<rich.jupyter.JupyterRenderable at 0x13912b850>"
      ]
     },
     "metadata": {},
     "output_type": "display_data"
    },
    {
     "data": {
      "text/html": [
       "<pre style=\"white-space:pre;overflow-x:auto;line-height:normal;font-family:Menlo,'DejaVu Sans Mono',consolas,'Courier New',monospace\"><span style=\"color: #7fbfbf; text-decoration-color: #7fbfbf\">                    </span><span style=\"color: #008000; text-decoration-color: #008000\">DEBUG   </span> Creating <span style=\"color: #008080; text-decoration-color: #008080; font-weight: bold\">2.</span>0s master dark using                  <a href=\"file:///var/folders/5d/bvscdv6j3d71wbxsvd8zwbs80000gn/T/ipykernel_30522/1641152526.py\"><span style=\"color: #7f7f7f; text-decoration-color: #7f7f7f\">1641152526.py</span></a><span style=\"color: #7f7f7f; text-decoration-color: #7f7f7f\">:6</span>\n",
       "                             <span style=\"font-weight: bold\">[</span><span style=\"color: #008000; text-decoration-color: #008000\">'RawData/dark_2s_001.fits'</span>,                                    \n",
       "                             <span style=\"color: #008000; text-decoration-color: #008000\">'RawData/dark_2s_002.fits'</span>,                                     \n",
       "                             <span style=\"color: #008000; text-decoration-color: #008000\">'RawData/dark_2s_003.fits'</span><span style=\"font-weight: bold\">]</span>                                     \n",
       "</pre>\n"
      ],
      "text/plain": [
       "<rich.jupyter.JupyterRenderable at 0x13912b730>"
      ]
     },
     "metadata": {},
     "output_type": "display_data"
    },
    {
     "data": {
      "text/html": [
       "<pre style=\"white-space:pre;overflow-x:auto;line-height:normal;font-family:Menlo,'DejaVu Sans Mono',consolas,'Courier New',monospace\"><span style=\"color: #7fbfbf; text-decoration-color: #7fbfbf\">[06/26/22 21:56:04] </span><span style=\"color: #000080; text-decoration-color: #000080\">INFO    </span> Saved MasterDark2.0s.fits                       <a href=\"file:///var/folders/5d/bvscdv6j3d71wbxsvd8zwbs80000gn/T/ipykernel_30522/1641152526.py\"><span style=\"color: #7f7f7f; text-decoration-color: #7f7f7f\">1641152526.py</span></a><span style=\"color: #7f7f7f; text-decoration-color: #7f7f7f\">:11</span>\n",
       "</pre>\n"
      ],
      "text/plain": [
       "<rich.jupyter.JupyterRenderable at 0x10db67850>"
      ]
     },
     "metadata": {},
     "output_type": "display_data"
    },
    {
     "data": {
      "text/html": [
       "<pre style=\"white-space:pre;overflow-x:auto;line-height:normal;font-family:Menlo,'DejaVu Sans Mono',consolas,'Courier New',monospace\"><span style=\"color: #7fbfbf; text-decoration-color: #7fbfbf\">                    </span><span style=\"color: #000080; text-decoration-color: #000080\">INFO    </span> Master <span style=\"color: #008080; text-decoration-color: #008080; font-weight: bold\">2.</span>0s dark saved to ProcessedData         <a href=\"file:///var/folders/5d/bvscdv6j3d71wbxsvd8zwbs80000gn/T/ipykernel_30522/1641152526.py\"><span style=\"color: #7f7f7f; text-decoration-color: #7f7f7f\">1641152526.py</span></a><span style=\"color: #7f7f7f; text-decoration-color: #7f7f7f\">:14</span>\n",
       "</pre>\n"
      ],
      "text/plain": [
       "<rich.jupyter.JupyterRenderable at 0x10db678b0>"
      ]
     },
     "metadata": {},
     "output_type": "display_data"
    },
    {
     "data": {
      "text/html": [
       "<pre style=\"white-space:pre;overflow-x:auto;line-height:normal;font-family:Menlo,'DejaVu Sans Mono',consolas,'Courier New',monospace\"><span style=\"color: #7fbfbf; text-decoration-color: #7fbfbf\">                    </span><span style=\"color: #008000; text-decoration-color: #008000\">DEBUG   </span> Creating <span style=\"color: #008080; text-decoration-color: #008080; font-weight: bold\">3.</span>0s master dark using                  <a href=\"file:///var/folders/5d/bvscdv6j3d71wbxsvd8zwbs80000gn/T/ipykernel_30522/1641152526.py\"><span style=\"color: #7f7f7f; text-decoration-color: #7f7f7f\">1641152526.py</span></a><span style=\"color: #7f7f7f; text-decoration-color: #7f7f7f\">:6</span>\n",
       "                             <span style=\"font-weight: bold\">[</span><span style=\"color: #008000; text-decoration-color: #008000\">'RawData/dark_3s_001.fits'</span>,                                    \n",
       "                             <span style=\"color: #008000; text-decoration-color: #008000\">'RawData/dark_3s_002.fits'</span>,                                     \n",
       "                             <span style=\"color: #008000; text-decoration-color: #008000\">'RawData/dark_3s_003.fits'</span><span style=\"font-weight: bold\">]</span>                                     \n",
       "</pre>\n"
      ],
      "text/plain": [
       "<rich.jupyter.JupyterRenderable at 0x138981520>"
      ]
     },
     "metadata": {},
     "output_type": "display_data"
    },
    {
     "data": {
      "text/html": [
       "<pre style=\"white-space:pre;overflow-x:auto;line-height:normal;font-family:Menlo,'DejaVu Sans Mono',consolas,'Courier New',monospace\"><span style=\"color: #7fbfbf; text-decoration-color: #7fbfbf\">[06/26/22 21:56:07] </span><span style=\"color: #000080; text-decoration-color: #000080\">INFO    </span> Saved MasterDark3.0s.fits                       <a href=\"file:///var/folders/5d/bvscdv6j3d71wbxsvd8zwbs80000gn/T/ipykernel_30522/1641152526.py\"><span style=\"color: #7f7f7f; text-decoration-color: #7f7f7f\">1641152526.py</span></a><span style=\"color: #7f7f7f; text-decoration-color: #7f7f7f\">:11</span>\n",
       "</pre>\n"
      ],
      "text/plain": [
       "<rich.jupyter.JupyterRenderable at 0x1390e6640>"
      ]
     },
     "metadata": {},
     "output_type": "display_data"
    },
    {
     "data": {
      "text/html": [
       "<pre style=\"white-space:pre;overflow-x:auto;line-height:normal;font-family:Menlo,'DejaVu Sans Mono',consolas,'Courier New',monospace\"><span style=\"color: #7fbfbf; text-decoration-color: #7fbfbf\">                    </span><span style=\"color: #000080; text-decoration-color: #000080\">INFO    </span> Master <span style=\"color: #008080; text-decoration-color: #008080; font-weight: bold\">3.</span>0s dark saved to ProcessedData         <a href=\"file:///var/folders/5d/bvscdv6j3d71wbxsvd8zwbs80000gn/T/ipykernel_30522/1641152526.py\"><span style=\"color: #7f7f7f; text-decoration-color: #7f7f7f\">1641152526.py</span></a><span style=\"color: #7f7f7f; text-decoration-color: #7f7f7f\">:14</span>\n",
       "</pre>\n"
      ],
      "text/plain": [
       "<rich.jupyter.JupyterRenderable at 0x139058e80>"
      ]
     },
     "metadata": {},
     "output_type": "display_data"
    },
    {
     "data": {
      "text/html": [
       "<pre style=\"white-space:pre;overflow-x:auto;line-height:normal;font-family:Menlo,'DejaVu Sans Mono',consolas,'Courier New',monospace\"><span style=\"color: #7fbfbf; text-decoration-color: #7fbfbf\">                    </span><span style=\"color: #008000; text-decoration-color: #008000\">DEBUG   </span> Creating <span style=\"color: #008080; text-decoration-color: #008080; font-weight: bold\">300.</span>0s master dark using                <a href=\"file:///var/folders/5d/bvscdv6j3d71wbxsvd8zwbs80000gn/T/ipykernel_30522/1641152526.py\"><span style=\"color: #7f7f7f; text-decoration-color: #7f7f7f\">1641152526.py</span></a><span style=\"color: #7f7f7f; text-decoration-color: #7f7f7f\">:6</span>\n",
       "                             <span style=\"font-weight: bold\">[</span><span style=\"color: #008000; text-decoration-color: #008000\">'RawData/Darks_5m_001.fits'</span>,                                   \n",
       "                             <span style=\"color: #008000; text-decoration-color: #008000\">'RawData/Darks_5m_002.fits'</span>,                                    \n",
       "                             <span style=\"color: #008000; text-decoration-color: #008000\">'RawData/Darks_5m_003.fits'</span><span style=\"font-weight: bold\">]</span>                                    \n",
       "</pre>\n"
      ],
      "text/plain": [
       "<rich.jupyter.JupyterRenderable at 0x139058550>"
      ]
     },
     "metadata": {},
     "output_type": "display_data"
    },
    {
     "data": {
      "text/html": [
       "<pre style=\"white-space:pre;overflow-x:auto;line-height:normal;font-family:Menlo,'DejaVu Sans Mono',consolas,'Courier New',monospace\"><span style=\"color: #7fbfbf; text-decoration-color: #7fbfbf\">[06/26/22 21:56:09] </span><span style=\"color: #000080; text-decoration-color: #000080\">INFO    </span> Saved MasterDark300.0s.fits                     <a href=\"file:///var/folders/5d/bvscdv6j3d71wbxsvd8zwbs80000gn/T/ipykernel_30522/1641152526.py\"><span style=\"color: #7f7f7f; text-decoration-color: #7f7f7f\">1641152526.py</span></a><span style=\"color: #7f7f7f; text-decoration-color: #7f7f7f\">:11</span>\n",
       "</pre>\n"
      ],
      "text/plain": [
       "<rich.jupyter.JupyterRenderable at 0x10db0dd60>"
      ]
     },
     "metadata": {},
     "output_type": "display_data"
    },
    {
     "data": {
      "text/html": [
       "<pre style=\"white-space:pre;overflow-x:auto;line-height:normal;font-family:Menlo,'DejaVu Sans Mono',consolas,'Courier New',monospace\"><span style=\"color: #7fbfbf; text-decoration-color: #7fbfbf\">                    </span><span style=\"color: #000080; text-decoration-color: #000080\">INFO    </span> Master <span style=\"color: #008080; text-decoration-color: #008080; font-weight: bold\">300.</span>0s dark saved to ProcessedData       <a href=\"file:///var/folders/5d/bvscdv6j3d71wbxsvd8zwbs80000gn/T/ipykernel_30522/1641152526.py\"><span style=\"color: #7f7f7f; text-decoration-color: #7f7f7f\">1641152526.py</span></a><span style=\"color: #7f7f7f; text-decoration-color: #7f7f7f\">:14</span>\n",
       "</pre>\n"
      ],
      "text/plain": [
       "<rich.jupyter.JupyterRenderable at 0x10db0dd60>"
      ]
     },
     "metadata": {},
     "output_type": "display_data"
    },
    {
     "data": {
      "text/html": [
       "<pre style=\"white-space:pre;overflow-x:auto;line-height:normal;font-family:Menlo,'DejaVu Sans Mono',consolas,'Courier New',monospace\"><span style=\"color: #7fbfbf; text-decoration-color: #7fbfbf\">                    </span><span style=\"color: #008000; text-decoration-color: #008000\">DEBUG   </span> Creating <span style=\"color: #008080; text-decoration-color: #008080; font-weight: bold\">5.</span>0s master dark using                  <a href=\"file:///var/folders/5d/bvscdv6j3d71wbxsvd8zwbs80000gn/T/ipykernel_30522/1641152526.py\"><span style=\"color: #7f7f7f; text-decoration-color: #7f7f7f\">1641152526.py</span></a><span style=\"color: #7f7f7f; text-decoration-color: #7f7f7f\">:6</span>\n",
       "                             <span style=\"font-weight: bold\">[</span><span style=\"color: #008000; text-decoration-color: #008000\">'RawData/dark_5s_001.fits'</span>,                                    \n",
       "                             <span style=\"color: #008000; text-decoration-color: #008000\">'RawData/dark_5s_002.fits'</span>,                                     \n",
       "                             <span style=\"color: #008000; text-decoration-color: #008000\">'RawData/dark_5s_003.fits'</span><span style=\"font-weight: bold\">]</span>                                     \n",
       "</pre>\n"
      ],
      "text/plain": [
       "<rich.jupyter.JupyterRenderable at 0x10db0dd60>"
      ]
     },
     "metadata": {},
     "output_type": "display_data"
    },
    {
     "data": {
      "text/html": [
       "<pre style=\"white-space:pre;overflow-x:auto;line-height:normal;font-family:Menlo,'DejaVu Sans Mono',consolas,'Courier New',monospace\"><span style=\"color: #7fbfbf; text-decoration-color: #7fbfbf\">[06/26/22 21:56:11] </span><span style=\"color: #000080; text-decoration-color: #000080\">INFO    </span> Saved MasterDark5.0s.fits                       <a href=\"file:///var/folders/5d/bvscdv6j3d71wbxsvd8zwbs80000gn/T/ipykernel_30522/1641152526.py\"><span style=\"color: #7f7f7f; text-decoration-color: #7f7f7f\">1641152526.py</span></a><span style=\"color: #7f7f7f; text-decoration-color: #7f7f7f\">:11</span>\n",
       "</pre>\n"
      ],
      "text/plain": [
       "<rich.jupyter.JupyterRenderable at 0x10db0dd60>"
      ]
     },
     "metadata": {},
     "output_type": "display_data"
    },
    {
     "data": {
      "text/html": [
       "<pre style=\"white-space:pre;overflow-x:auto;line-height:normal;font-family:Menlo,'DejaVu Sans Mono',consolas,'Courier New',monospace\"><span style=\"color: #7fbfbf; text-decoration-color: #7fbfbf\">                    </span><span style=\"color: #000080; text-decoration-color: #000080\">INFO    </span> Master <span style=\"color: #008080; text-decoration-color: #008080; font-weight: bold\">5.</span>0s dark saved to ProcessedData         <a href=\"file:///var/folders/5d/bvscdv6j3d71wbxsvd8zwbs80000gn/T/ipykernel_30522/1641152526.py\"><span style=\"color: #7f7f7f; text-decoration-color: #7f7f7f\">1641152526.py</span></a><span style=\"color: #7f7f7f; text-decoration-color: #7f7f7f\">:14</span>\n",
       "</pre>\n"
      ],
      "text/plain": [
       "<rich.jupyter.JupyterRenderable at 0x10db0dd60>"
      ]
     },
     "metadata": {},
     "output_type": "display_data"
    }
   ],
   "source": [
    "# create master darks\n",
    "dark_times = set(raw_darks.summary['exptime'])\n",
    "log.debug(\"Found {0} as exposure times for dark images\".format(dark_times))\n",
    "for time in dark_times:\n",
    "    selected_darks = raw_darks.files_filtered(exptime=time, include_path=True)\n",
    "    log.debug(\"Creating {0}s master dark using {1}\".format(time, selected_darks))\n",
    "\n",
    "    master_dark = ccdproc.combine(selected_darks, method=\"median\", unit=\"adu\")\n",
    "    master_dark.meta[\"COMBINED\"] = True\n",
    "    master_dark.write(Path(processed_data_path, \"MasterDark{0}s.fits\".format(int(time))), overwrite=True)\n",
    "    log.info(\"Saved MasterDark{0}s.fits\".format(time))\n",
    "    # TODO: Make a filename maker which handles millisecond exposure times\n",
    "\n",
    "    log.info(\"Master {0}s dark saved to {1}\".format(time, processed_data_path))"
   ]
  },
  {
   "cell_type": "code",
   "execution_count": 8,
   "metadata": {},
   "outputs": [
    {
     "name": "stderr",
     "output_type": "stream",
     "text": [
      "INFO:astropy:using the unit adu passed to the FITS reader instead of the unit adu in the FITS file.\n"
     ]
    },
    {
     "name": "stdout",
     "output_type": "stream",
     "text": [
      "INFO: using the unit adu passed to the FITS reader instead of the unit adu in the FITS file. [astropy.nddata.ccddata]\n"
     ]
    },
    {
     "data": {
      "text/html": [
       "<pre style=\"white-space:pre;overflow-x:auto;line-height:normal;font-family:Menlo,'DejaVu Sans Mono',consolas,'Courier New',monospace\"><span style=\"color: #7fbfbf; text-decoration-color: #7fbfbf\">[06/26/22 21:56:29] </span><span style=\"color: #000080; text-decoration-color: #000080\">INFO    </span> Loaded B filter with images:                    <a href=\"file:///var/folders/5d/bvscdv6j3d71wbxsvd8zwbs80000gn/T/ipykernel_30522/1796908630.py\"><span style=\"color: #7f7f7f; text-decoration-color: #7f7f7f\">1796908630.py</span></a><span style=\"color: #7f7f7f; text-decoration-color: #7f7f7f\">:18</span>\n",
       "                             <span style=\"font-weight: bold\">[</span><span style=\"color: #008000; text-decoration-color: #008000\">'RawData/flat_B_001.fits'</span>,                                     \n",
       "                             <span style=\"color: #008000; text-decoration-color: #008000\">'RawData/flat_B_002.fits'</span>,                                      \n",
       "                             <span style=\"color: #008000; text-decoration-color: #008000\">'RawData/flat_B_003.fits'</span><span style=\"font-weight: bold\">]</span>                                      \n",
       "</pre>\n"
      ],
      "text/plain": [
       "<rich.jupyter.JupyterRenderable at 0x10db28400>"
      ]
     },
     "metadata": {},
     "output_type": "display_data"
    },
    {
     "data": {
      "text/html": [
       "<pre style=\"white-space:pre;overflow-x:auto;line-height:normal;font-family:Menlo,'DejaVu Sans Mono',consolas,'Courier New',monospace\"><span style=\"color: #7fbfbf; text-decoration-color: #7fbfbf\">[06/26/22 21:56:31] </span><span style=\"color: #008000; text-decoration-color: #008000\">DEBUG   </span> Combined flats for B                            <a href=\"file:///var/folders/5d/bvscdv6j3d71wbxsvd8zwbs80000gn/T/ipykernel_30522/1796908630.py\"><span style=\"color: #7f7f7f; text-decoration-color: #7f7f7f\">1796908630.py</span></a><span style=\"color: #7f7f7f; text-decoration-color: #7f7f7f\">:22</span>\n",
       "</pre>\n"
      ],
      "text/plain": [
       "<rich.jupyter.JupyterRenderable at 0x10db28fa0>"
      ]
     },
     "metadata": {},
     "output_type": "display_data"
    },
    {
     "data": {
      "text/html": [
       "<pre style=\"white-space:pre;overflow-x:auto;line-height:normal;font-family:Menlo,'DejaVu Sans Mono',consolas,'Courier New',monospace\"><span style=\"color: #7fbfbf; text-decoration-color: #7fbfbf\">                    </span><span style=\"color: #008000; text-decoration-color: #008000\">DEBUG   </span> Subtracted bias for B                           <a href=\"file:///var/folders/5d/bvscdv6j3d71wbxsvd8zwbs80000gn/T/ipykernel_30522/1796908630.py\"><span style=\"color: #7f7f7f; text-decoration-color: #7f7f7f\">1796908630.py</span></a><span style=\"color: #7f7f7f; text-decoration-color: #7f7f7f\">:25</span>\n",
       "</pre>\n"
      ],
      "text/plain": [
       "<rich.jupyter.JupyterRenderable at 0x139163190>"
      ]
     },
     "metadata": {},
     "output_type": "display_data"
    },
    {
     "data": {
      "text/html": [
       "<pre style=\"white-space:pre;overflow-x:auto;line-height:normal;font-family:Menlo,'DejaVu Sans Mono',consolas,'Courier New',monospace\"><span style=\"color: #7fbfbf; text-decoration-color: #7fbfbf\">                    </span><span style=\"color: #008000; text-decoration-color: #008000\">DEBUG   </span> Determined exposure time to be <span style=\"color: #008080; text-decoration-color: #008080; font-weight: bold\">3</span> for B          <a href=\"file:///var/folders/5d/bvscdv6j3d71wbxsvd8zwbs80000gn/T/ipykernel_30522/1796908630.py\"><span style=\"color: #7f7f7f; text-decoration-color: #7f7f7f\">1796908630.py</span></a><span style=\"color: #7f7f7f; text-decoration-color: #7f7f7f\">:32</span>\n",
       "</pre>\n"
      ],
      "text/plain": [
       "<rich.jupyter.JupyterRenderable at 0x1390e6910>"
      ]
     },
     "metadata": {},
     "output_type": "display_data"
    },
    {
     "data": {
      "text/html": [
       "<pre style=\"white-space:pre;overflow-x:auto;line-height:normal;font-family:Menlo,'DejaVu Sans Mono',consolas,'Courier New',monospace\"><span style=\"color: #7fbfbf; text-decoration-color: #7fbfbf\">                    </span><span style=\"color: #008000; text-decoration-color: #008000\">DEBUG   </span> Determined equivalent dark to be                <a href=\"file:///var/folders/5d/bvscdv6j3d71wbxsvd8zwbs80000gn/T/ipykernel_30522/1796908630.py\"><span style=\"color: #7f7f7f; text-decoration-color: #7f7f7f\">1796908630.py</span></a><span style=\"color: #7f7f7f; text-decoration-color: #7f7f7f\">:37</span>\n",
       "                             ProcessedData/MasterDark3s.fits for B                           \n",
       "</pre>\n"
      ],
      "text/plain": [
       "<rich.jupyter.JupyterRenderable at 0x139163190>"
      ]
     },
     "metadata": {},
     "output_type": "display_data"
    },
    {
     "name": "stderr",
     "output_type": "stream",
     "text": [
      "INFO:astropy:using the unit adu passed to the FITS reader instead of the unit adu in the FITS file.\n"
     ]
    },
    {
     "name": "stdout",
     "output_type": "stream",
     "text": [
      "INFO: using the unit adu passed to the FITS reader instead of the unit adu in the FITS file. [astropy.nddata.ccddata]\n"
     ]
    },
    {
     "data": {
      "text/html": [
       "<pre style=\"white-space:pre;overflow-x:auto;line-height:normal;font-family:Menlo,'DejaVu Sans Mono',consolas,'Courier New',monospace\"><span style=\"color: #7fbfbf; text-decoration-color: #7fbfbf\">                    </span><span style=\"color: #008000; text-decoration-color: #008000\">DEBUG   </span> Subtracted darks for B                          <a href=\"file:///var/folders/5d/bvscdv6j3d71wbxsvd8zwbs80000gn/T/ipykernel_30522/1796908630.py\"><span style=\"color: #7f7f7f; text-decoration-color: #7f7f7f\">1796908630.py</span></a><span style=\"color: #7f7f7f; text-decoration-color: #7f7f7f\">:41</span>\n",
       "</pre>\n"
      ],
      "text/plain": [
       "<rich.jupyter.JupyterRenderable at 0x139058ee0>"
      ]
     },
     "metadata": {},
     "output_type": "display_data"
    },
    {
     "data": {
      "text/html": [
       "<pre style=\"white-space:pre;overflow-x:auto;line-height:normal;font-family:Menlo,'DejaVu Sans Mono',consolas,'Courier New',monospace\"><span style=\"color: #7fbfbf; text-decoration-color: #7fbfbf\">[06/26/22 21:56:32] </span><span style=\"color: #000080; text-decoration-color: #000080\">INFO    </span> Saved MasterFlatB.fits                          <a href=\"file:///var/folders/5d/bvscdv6j3d71wbxsvd8zwbs80000gn/T/ipykernel_30522/1796908630.py\"><span style=\"color: #7f7f7f; text-decoration-color: #7f7f7f\">1796908630.py</span></a><span style=\"color: #7f7f7f; text-decoration-color: #7f7f7f\">:44</span>\n",
       "</pre>\n"
      ],
      "text/plain": [
       "<rich.jupyter.JupyterRenderable at 0x1391523a0>"
      ]
     },
     "metadata": {},
     "output_type": "display_data"
    },
    {
     "data": {
      "text/html": [
       "<pre style=\"white-space:pre;overflow-x:auto;line-height:normal;font-family:Menlo,'DejaVu Sans Mono',consolas,'Courier New',monospace\"><span style=\"color: #7fbfbf; text-decoration-color: #7fbfbf\">                    </span><span style=\"color: #000080; text-decoration-color: #000080\">INFO    </span> Loaded G filter with images:                    <a href=\"file:///var/folders/5d/bvscdv6j3d71wbxsvd8zwbs80000gn/T/ipykernel_30522/1796908630.py\"><span style=\"color: #7f7f7f; text-decoration-color: #7f7f7f\">1796908630.py</span></a><span style=\"color: #7f7f7f; text-decoration-color: #7f7f7f\">:18</span>\n",
       "                             <span style=\"font-weight: bold\">[</span><span style=\"color: #008000; text-decoration-color: #008000\">'RawData/flat_G_001.fits'</span>,                                     \n",
       "                             <span style=\"color: #008000; text-decoration-color: #008000\">'RawData/flat_G_002.fits'</span>,                                      \n",
       "                             <span style=\"color: #008000; text-decoration-color: #008000\">'RawData/flat_G_003.fits'</span><span style=\"font-weight: bold\">]</span>                                      \n",
       "</pre>\n"
      ],
      "text/plain": [
       "<rich.jupyter.JupyterRenderable at 0x139058ee0>"
      ]
     },
     "metadata": {},
     "output_type": "display_data"
    },
    {
     "data": {
      "text/html": [
       "<pre style=\"white-space:pre;overflow-x:auto;line-height:normal;font-family:Menlo,'DejaVu Sans Mono',consolas,'Courier New',monospace\"><span style=\"color: #7fbfbf; text-decoration-color: #7fbfbf\">[06/26/22 21:56:34] </span><span style=\"color: #008000; text-decoration-color: #008000\">DEBUG   </span> Combined flats for G                            <a href=\"file:///var/folders/5d/bvscdv6j3d71wbxsvd8zwbs80000gn/T/ipykernel_30522/1796908630.py\"><span style=\"color: #7f7f7f; text-decoration-color: #7f7f7f\">1796908630.py</span></a><span style=\"color: #7f7f7f; text-decoration-color: #7f7f7f\">:22</span>\n",
       "</pre>\n"
      ],
      "text/plain": [
       "<rich.jupyter.JupyterRenderable at 0x1391438e0>"
      ]
     },
     "metadata": {},
     "output_type": "display_data"
    },
    {
     "data": {
      "text/html": [
       "<pre style=\"white-space:pre;overflow-x:auto;line-height:normal;font-family:Menlo,'DejaVu Sans Mono',consolas,'Courier New',monospace\"><span style=\"color: #7fbfbf; text-decoration-color: #7fbfbf\">                    </span><span style=\"color: #008000; text-decoration-color: #008000\">DEBUG   </span> Subtracted bias for G                           <a href=\"file:///var/folders/5d/bvscdv6j3d71wbxsvd8zwbs80000gn/T/ipykernel_30522/1796908630.py\"><span style=\"color: #7f7f7f; text-decoration-color: #7f7f7f\">1796908630.py</span></a><span style=\"color: #7f7f7f; text-decoration-color: #7f7f7f\">:25</span>\n",
       "</pre>\n"
      ],
      "text/plain": [
       "<rich.jupyter.JupyterRenderable at 0x139143a00>"
      ]
     },
     "metadata": {},
     "output_type": "display_data"
    },
    {
     "data": {
      "text/html": [
       "<pre style=\"white-space:pre;overflow-x:auto;line-height:normal;font-family:Menlo,'DejaVu Sans Mono',consolas,'Courier New',monospace\"><span style=\"color: #7fbfbf; text-decoration-color: #7fbfbf\">                    </span><span style=\"color: #008000; text-decoration-color: #008000\">DEBUG   </span> Determined exposure time to be <span style=\"color: #008080; text-decoration-color: #008080; font-weight: bold\">3</span> for G          <a href=\"file:///var/folders/5d/bvscdv6j3d71wbxsvd8zwbs80000gn/T/ipykernel_30522/1796908630.py\"><span style=\"color: #7f7f7f; text-decoration-color: #7f7f7f\">1796908630.py</span></a><span style=\"color: #7f7f7f; text-decoration-color: #7f7f7f\">:32</span>\n",
       "</pre>\n"
      ],
      "text/plain": [
       "<rich.jupyter.JupyterRenderable at 0x13908e8b0>"
      ]
     },
     "metadata": {},
     "output_type": "display_data"
    },
    {
     "data": {
      "text/html": [
       "<pre style=\"white-space:pre;overflow-x:auto;line-height:normal;font-family:Menlo,'DejaVu Sans Mono',consolas,'Courier New',monospace\"><span style=\"color: #7fbfbf; text-decoration-color: #7fbfbf\">                    </span><span style=\"color: #008000; text-decoration-color: #008000\">DEBUG   </span> Determined equivalent dark to be                <a href=\"file:///var/folders/5d/bvscdv6j3d71wbxsvd8zwbs80000gn/T/ipykernel_30522/1796908630.py\"><span style=\"color: #7f7f7f; text-decoration-color: #7f7f7f\">1796908630.py</span></a><span style=\"color: #7f7f7f; text-decoration-color: #7f7f7f\">:37</span>\n",
       "                             ProcessedData/MasterDark3s.fits for G                           \n",
       "</pre>\n"
      ],
      "text/plain": [
       "<rich.jupyter.JupyterRenderable at 0x13908e790>"
      ]
     },
     "metadata": {},
     "output_type": "display_data"
    },
    {
     "name": "stderr",
     "output_type": "stream",
     "text": [
      "INFO:astropy:using the unit adu passed to the FITS reader instead of the unit adu in the FITS file.\n"
     ]
    },
    {
     "name": "stdout",
     "output_type": "stream",
     "text": [
      "INFO: using the unit adu passed to the FITS reader instead of the unit adu in the FITS file. [astropy.nddata.ccddata]\n"
     ]
    },
    {
     "data": {
      "text/html": [
       "<pre style=\"white-space:pre;overflow-x:auto;line-height:normal;font-family:Menlo,'DejaVu Sans Mono',consolas,'Courier New',monospace\"><span style=\"color: #7fbfbf; text-decoration-color: #7fbfbf\">                    </span><span style=\"color: #008000; text-decoration-color: #008000\">DEBUG   </span> Subtracted darks for G                          <a href=\"file:///var/folders/5d/bvscdv6j3d71wbxsvd8zwbs80000gn/T/ipykernel_30522/1796908630.py\"><span style=\"color: #7f7f7f; text-decoration-color: #7f7f7f\">1796908630.py</span></a><span style=\"color: #7f7f7f; text-decoration-color: #7f7f7f\">:41</span>\n",
       "</pre>\n"
      ],
      "text/plain": [
       "<rich.jupyter.JupyterRenderable at 0x13912bc70>"
      ]
     },
     "metadata": {},
     "output_type": "display_data"
    },
    {
     "data": {
      "text/html": [
       "<pre style=\"white-space:pre;overflow-x:auto;line-height:normal;font-family:Menlo,'DejaVu Sans Mono',consolas,'Courier New',monospace\"><span style=\"color: #7fbfbf; text-decoration-color: #7fbfbf\">                    </span><span style=\"color: #000080; text-decoration-color: #000080\">INFO    </span> Saved MasterFlatG.fits                          <a href=\"file:///var/folders/5d/bvscdv6j3d71wbxsvd8zwbs80000gn/T/ipykernel_30522/1796908630.py\"><span style=\"color: #7f7f7f; text-decoration-color: #7f7f7f\">1796908630.py</span></a><span style=\"color: #7f7f7f; text-decoration-color: #7f7f7f\">:44</span>\n",
       "</pre>\n"
      ],
      "text/plain": [
       "<rich.jupyter.JupyterRenderable at 0x1390e68e0>"
      ]
     },
     "metadata": {},
     "output_type": "display_data"
    },
    {
     "data": {
      "text/html": [
       "<pre style=\"white-space:pre;overflow-x:auto;line-height:normal;font-family:Menlo,'DejaVu Sans Mono',consolas,'Courier New',monospace\"><span style=\"color: #7fbfbf; text-decoration-color: #7fbfbf\">                    </span><span style=\"color: #000080; text-decoration-color: #000080\">INFO    </span> Loaded HBETA filter with images:                <a href=\"file:///var/folders/5d/bvscdv6j3d71wbxsvd8zwbs80000gn/T/ipykernel_30522/1796908630.py\"><span style=\"color: #7f7f7f; text-decoration-color: #7f7f7f\">1796908630.py</span></a><span style=\"color: #7f7f7f; text-decoration-color: #7f7f7f\">:18</span>\n",
       "                             <span style=\"font-weight: bold\">[</span><span style=\"color: #008000; text-decoration-color: #008000\">'RawData/flat_Hbeta_001.fits'</span>,                                 \n",
       "                             <span style=\"color: #008000; text-decoration-color: #008000\">'RawData/flat_Hbeta_002.fits'</span>,                                  \n",
       "                             <span style=\"color: #008000; text-decoration-color: #008000\">'RawData/flat_Hbeta_003.fits'</span><span style=\"font-weight: bold\">]</span>                                  \n",
       "</pre>\n"
      ],
      "text/plain": [
       "<rich.jupyter.JupyterRenderable at 0x1390e6670>"
      ]
     },
     "metadata": {},
     "output_type": "display_data"
    },
    {
     "data": {
      "text/html": [
       "<pre style=\"white-space:pre;overflow-x:auto;line-height:normal;font-family:Menlo,'DejaVu Sans Mono',consolas,'Courier New',monospace\"><span style=\"color: #7fbfbf; text-decoration-color: #7fbfbf\">[06/26/22 21:56:36] </span><span style=\"color: #008000; text-decoration-color: #008000\">DEBUG   </span> Combined flats for HBETA                        <a href=\"file:///var/folders/5d/bvscdv6j3d71wbxsvd8zwbs80000gn/T/ipykernel_30522/1796908630.py\"><span style=\"color: #7f7f7f; text-decoration-color: #7f7f7f\">1796908630.py</span></a><span style=\"color: #7f7f7f; text-decoration-color: #7f7f7f\">:22</span>\n",
       "</pre>\n"
      ],
      "text/plain": [
       "<rich.jupyter.JupyterRenderable at 0x139152340>"
      ]
     },
     "metadata": {},
     "output_type": "display_data"
    },
    {
     "data": {
      "text/html": [
       "<pre style=\"white-space:pre;overflow-x:auto;line-height:normal;font-family:Menlo,'DejaVu Sans Mono',consolas,'Courier New',monospace\"><span style=\"color: #7fbfbf; text-decoration-color: #7fbfbf\">                    </span><span style=\"color: #008000; text-decoration-color: #008000\">DEBUG   </span> Subtracted bias for HBETA                       <a href=\"file:///var/folders/5d/bvscdv6j3d71wbxsvd8zwbs80000gn/T/ipykernel_30522/1796908630.py\"><span style=\"color: #7f7f7f; text-decoration-color: #7f7f7f\">1796908630.py</span></a><span style=\"color: #7f7f7f; text-decoration-color: #7f7f7f\">:25</span>\n",
       "</pre>\n"
      ],
      "text/plain": [
       "<rich.jupyter.JupyterRenderable at 0x10db28400>"
      ]
     },
     "metadata": {},
     "output_type": "display_data"
    },
    {
     "data": {
      "text/html": [
       "<pre style=\"white-space:pre;overflow-x:auto;line-height:normal;font-family:Menlo,'DejaVu Sans Mono',consolas,'Courier New',monospace\"><span style=\"color: #7fbfbf; text-decoration-color: #7fbfbf\">                    </span><span style=\"color: #008000; text-decoration-color: #008000\">DEBUG   </span> Determined exposure time to be <span style=\"color: #008080; text-decoration-color: #008080; font-weight: bold\">5</span> for HBETA      <a href=\"file:///var/folders/5d/bvscdv6j3d71wbxsvd8zwbs80000gn/T/ipykernel_30522/1796908630.py\"><span style=\"color: #7f7f7f; text-decoration-color: #7f7f7f\">1796908630.py</span></a><span style=\"color: #7f7f7f; text-decoration-color: #7f7f7f\">:32</span>\n",
       "</pre>\n"
      ],
      "text/plain": [
       "<rich.jupyter.JupyterRenderable at 0x139058c10>"
      ]
     },
     "metadata": {},
     "output_type": "display_data"
    },
    {
     "data": {
      "text/html": [
       "<pre style=\"white-space:pre;overflow-x:auto;line-height:normal;font-family:Menlo,'DejaVu Sans Mono',consolas,'Courier New',monospace\"><span style=\"color: #7fbfbf; text-decoration-color: #7fbfbf\">                    </span><span style=\"color: #008000; text-decoration-color: #008000\">DEBUG   </span> Determined equivalent dark to be                <a href=\"file:///var/folders/5d/bvscdv6j3d71wbxsvd8zwbs80000gn/T/ipykernel_30522/1796908630.py\"><span style=\"color: #7f7f7f; text-decoration-color: #7f7f7f\">1796908630.py</span></a><span style=\"color: #7f7f7f; text-decoration-color: #7f7f7f\">:37</span>\n",
       "                             ProcessedData/MasterDark5s.fits for HBETA                       \n",
       "</pre>\n"
      ],
      "text/plain": [
       "<rich.jupyter.JupyterRenderable at 0x139058850>"
      ]
     },
     "metadata": {},
     "output_type": "display_data"
    },
    {
     "name": "stderr",
     "output_type": "stream",
     "text": [
      "INFO:astropy:using the unit adu passed to the FITS reader instead of the unit adu in the FITS file.\n"
     ]
    },
    {
     "name": "stdout",
     "output_type": "stream",
     "text": [
      "INFO: using the unit adu passed to the FITS reader instead of the unit adu in the FITS file. [astropy.nddata.ccddata]\n"
     ]
    },
    {
     "data": {
      "text/html": [
       "<pre style=\"white-space:pre;overflow-x:auto;line-height:normal;font-family:Menlo,'DejaVu Sans Mono',consolas,'Courier New',monospace\"><span style=\"color: #7fbfbf; text-decoration-color: #7fbfbf\">[06/26/22 21:56:37] </span><span style=\"color: #008000; text-decoration-color: #008000\">DEBUG   </span> Subtracted darks for HBETA                      <a href=\"file:///var/folders/5d/bvscdv6j3d71wbxsvd8zwbs80000gn/T/ipykernel_30522/1796908630.py\"><span style=\"color: #7f7f7f; text-decoration-color: #7f7f7f\">1796908630.py</span></a><span style=\"color: #7f7f7f; text-decoration-color: #7f7f7f\">:41</span>\n",
       "</pre>\n"
      ],
      "text/plain": [
       "<rich.jupyter.JupyterRenderable at 0x13908e5e0>"
      ]
     },
     "metadata": {},
     "output_type": "display_data"
    },
    {
     "data": {
      "text/html": [
       "<pre style=\"white-space:pre;overflow-x:auto;line-height:normal;font-family:Menlo,'DejaVu Sans Mono',consolas,'Courier New',monospace\"><span style=\"color: #7fbfbf; text-decoration-color: #7fbfbf\">                    </span><span style=\"color: #000080; text-decoration-color: #000080\">INFO    </span> Saved MasterFlatHBETA.fits                      <a href=\"file:///var/folders/5d/bvscdv6j3d71wbxsvd8zwbs80000gn/T/ipykernel_30522/1796908630.py\"><span style=\"color: #7f7f7f; text-decoration-color: #7f7f7f\">1796908630.py</span></a><span style=\"color: #7f7f7f; text-decoration-color: #7f7f7f\">:44</span>\n",
       "</pre>\n"
      ],
      "text/plain": [
       "<rich.jupyter.JupyterRenderable at 0x139152370>"
      ]
     },
     "metadata": {},
     "output_type": "display_data"
    },
    {
     "data": {
      "text/html": [
       "<pre style=\"white-space:pre;overflow-x:auto;line-height:normal;font-family:Menlo,'DejaVu Sans Mono',consolas,'Courier New',monospace\"><span style=\"color: #7fbfbf; text-decoration-color: #7fbfbf\">                    </span><span style=\"color: #000080; text-decoration-color: #000080\">INFO    </span> Loaded OIII filter with images:                 <a href=\"file:///var/folders/5d/bvscdv6j3d71wbxsvd8zwbs80000gn/T/ipykernel_30522/1796908630.py\"><span style=\"color: #7f7f7f; text-decoration-color: #7f7f7f\">1796908630.py</span></a><span style=\"color: #7f7f7f; text-decoration-color: #7f7f7f\">:18</span>\n",
       "                             <span style=\"font-weight: bold\">[</span><span style=\"color: #008000; text-decoration-color: #008000\">'RawData/flat_OIII_002.fits'</span>,                                  \n",
       "                             <span style=\"color: #008000; text-decoration-color: #008000\">'RawData/flat_OIII_003.fits'</span><span style=\"font-weight: bold\">]</span>                                   \n",
       "</pre>\n"
      ],
      "text/plain": [
       "<rich.jupyter.JupyterRenderable at 0x1390e6a90>"
      ]
     },
     "metadata": {},
     "output_type": "display_data"
    },
    {
     "data": {
      "text/html": [
       "<pre style=\"white-space:pre;overflow-x:auto;line-height:normal;font-family:Menlo,'DejaVu Sans Mono',consolas,'Courier New',monospace\"><span style=\"color: #7fbfbf; text-decoration-color: #7fbfbf\">[06/26/22 21:56:39] </span><span style=\"color: #008000; text-decoration-color: #008000\">DEBUG   </span> Combined flats for OIII                         <a href=\"file:///var/folders/5d/bvscdv6j3d71wbxsvd8zwbs80000gn/T/ipykernel_30522/1796908630.py\"><span style=\"color: #7f7f7f; text-decoration-color: #7f7f7f\">1796908630.py</span></a><span style=\"color: #7f7f7f; text-decoration-color: #7f7f7f\">:22</span>\n",
       "</pre>\n"
      ],
      "text/plain": [
       "<rich.jupyter.JupyterRenderable at 0x139152340>"
      ]
     },
     "metadata": {},
     "output_type": "display_data"
    },
    {
     "data": {
      "text/html": [
       "<pre style=\"white-space:pre;overflow-x:auto;line-height:normal;font-family:Menlo,'DejaVu Sans Mono',consolas,'Courier New',monospace\"><span style=\"color: #7fbfbf; text-decoration-color: #7fbfbf\">                    </span><span style=\"color: #008000; text-decoration-color: #008000\">DEBUG   </span> Subtracted bias for OIII                        <a href=\"file:///var/folders/5d/bvscdv6j3d71wbxsvd8zwbs80000gn/T/ipykernel_30522/1796908630.py\"><span style=\"color: #7f7f7f; text-decoration-color: #7f7f7f\">1796908630.py</span></a><span style=\"color: #7f7f7f; text-decoration-color: #7f7f7f\">:25</span>\n",
       "</pre>\n"
      ],
      "text/plain": [
       "<rich.jupyter.JupyterRenderable at 0x13908edc0>"
      ]
     },
     "metadata": {},
     "output_type": "display_data"
    },
    {
     "data": {
      "text/html": [
       "<pre style=\"white-space:pre;overflow-x:auto;line-height:normal;font-family:Menlo,'DejaVu Sans Mono',consolas,'Courier New',monospace\"><span style=\"color: #7fbfbf; text-decoration-color: #7fbfbf\">                    </span><span style=\"color: #008000; text-decoration-color: #008000\">DEBUG   </span> Determined exposure time to be <span style=\"color: #008080; text-decoration-color: #008080; font-weight: bold\">5</span> for OIII       <a href=\"file:///var/folders/5d/bvscdv6j3d71wbxsvd8zwbs80000gn/T/ipykernel_30522/1796908630.py\"><span style=\"color: #7f7f7f; text-decoration-color: #7f7f7f\">1796908630.py</span></a><span style=\"color: #7f7f7f; text-decoration-color: #7f7f7f\">:32</span>\n",
       "</pre>\n"
      ],
      "text/plain": [
       "<rich.jupyter.JupyterRenderable at 0x139143ac0>"
      ]
     },
     "metadata": {},
     "output_type": "display_data"
    },
    {
     "data": {
      "text/html": [
       "<pre style=\"white-space:pre;overflow-x:auto;line-height:normal;font-family:Menlo,'DejaVu Sans Mono',consolas,'Courier New',monospace\"><span style=\"color: #7fbfbf; text-decoration-color: #7fbfbf\">                    </span><span style=\"color: #008000; text-decoration-color: #008000\">DEBUG   </span> Determined equivalent dark to be                <a href=\"file:///var/folders/5d/bvscdv6j3d71wbxsvd8zwbs80000gn/T/ipykernel_30522/1796908630.py\"><span style=\"color: #7f7f7f; text-decoration-color: #7f7f7f\">1796908630.py</span></a><span style=\"color: #7f7f7f; text-decoration-color: #7f7f7f\">:37</span>\n",
       "                             ProcessedData/MasterDark5s.fits for OIII                        \n",
       "</pre>\n"
      ],
      "text/plain": [
       "<rich.jupyter.JupyterRenderable at 0x139143940>"
      ]
     },
     "metadata": {},
     "output_type": "display_data"
    },
    {
     "name": "stderr",
     "output_type": "stream",
     "text": [
      "INFO:astropy:using the unit adu passed to the FITS reader instead of the unit adu in the FITS file.\n"
     ]
    },
    {
     "name": "stdout",
     "output_type": "stream",
     "text": [
      "INFO: using the unit adu passed to the FITS reader instead of the unit adu in the FITS file. [astropy.nddata.ccddata]\n"
     ]
    },
    {
     "data": {
      "text/html": [
       "<pre style=\"white-space:pre;overflow-x:auto;line-height:normal;font-family:Menlo,'DejaVu Sans Mono',consolas,'Courier New',monospace\"><span style=\"color: #7fbfbf; text-decoration-color: #7fbfbf\">                    </span><span style=\"color: #008000; text-decoration-color: #008000\">DEBUG   </span> Subtracted darks for OIII                       <a href=\"file:///var/folders/5d/bvscdv6j3d71wbxsvd8zwbs80000gn/T/ipykernel_30522/1796908630.py\"><span style=\"color: #7f7f7f; text-decoration-color: #7f7f7f\">1796908630.py</span></a><span style=\"color: #7f7f7f; text-decoration-color: #7f7f7f\">:41</span>\n",
       "</pre>\n"
      ],
      "text/plain": [
       "<rich.jupyter.JupyterRenderable at 0x1391523d0>"
      ]
     },
     "metadata": {},
     "output_type": "display_data"
    },
    {
     "data": {
      "text/html": [
       "<pre style=\"white-space:pre;overflow-x:auto;line-height:normal;font-family:Menlo,'DejaVu Sans Mono',consolas,'Courier New',monospace\"><span style=\"color: #7fbfbf; text-decoration-color: #7fbfbf\">                    </span><span style=\"color: #000080; text-decoration-color: #000080\">INFO    </span> Saved MasterFlatOIII.fits                       <a href=\"file:///var/folders/5d/bvscdv6j3d71wbxsvd8zwbs80000gn/T/ipykernel_30522/1796908630.py\"><span style=\"color: #7f7f7f; text-decoration-color: #7f7f7f\">1796908630.py</span></a><span style=\"color: #7f7f7f; text-decoration-color: #7f7f7f\">:44</span>\n",
       "</pre>\n"
      ],
      "text/plain": [
       "<rich.jupyter.JupyterRenderable at 0x1390e6a90>"
      ]
     },
     "metadata": {},
     "output_type": "display_data"
    },
    {
     "data": {
      "text/html": [
       "<pre style=\"white-space:pre;overflow-x:auto;line-height:normal;font-family:Menlo,'DejaVu Sans Mono',consolas,'Courier New',monospace\"><span style=\"color: #7fbfbf; text-decoration-color: #7fbfbf\">                    </span><span style=\"color: #000080; text-decoration-color: #000080\">INFO    </span> Loaded R filter with images:                    <a href=\"file:///var/folders/5d/bvscdv6j3d71wbxsvd8zwbs80000gn/T/ipykernel_30522/1796908630.py\"><span style=\"color: #7f7f7f; text-decoration-color: #7f7f7f\">1796908630.py</span></a><span style=\"color: #7f7f7f; text-decoration-color: #7f7f7f\">:18</span>\n",
       "                             <span style=\"font-weight: bold\">[</span><span style=\"color: #008000; text-decoration-color: #008000\">'RawData/flat_R_001.fits'</span>,                                     \n",
       "                             <span style=\"color: #008000; text-decoration-color: #008000\">'RawData/flat_R_002.fits'</span>,                                      \n",
       "                             <span style=\"color: #008000; text-decoration-color: #008000\">'RawData/flat_R_003.fits'</span><span style=\"font-weight: bold\">]</span>                                      \n",
       "</pre>\n"
      ],
      "text/plain": [
       "<rich.jupyter.JupyterRenderable at 0x1390e6a90>"
      ]
     },
     "metadata": {},
     "output_type": "display_data"
    },
    {
     "data": {
      "text/html": [
       "<pre style=\"white-space:pre;overflow-x:auto;line-height:normal;font-family:Menlo,'DejaVu Sans Mono',consolas,'Courier New',monospace\"><span style=\"color: #7fbfbf; text-decoration-color: #7fbfbf\">[06/26/22 21:56:42] </span><span style=\"color: #008000; text-decoration-color: #008000\">DEBUG   </span> Combined flats for R                            <a href=\"file:///var/folders/5d/bvscdv6j3d71wbxsvd8zwbs80000gn/T/ipykernel_30522/1796908630.py\"><span style=\"color: #7f7f7f; text-decoration-color: #7f7f7f\">1796908630.py</span></a><span style=\"color: #7f7f7f; text-decoration-color: #7f7f7f\">:22</span>\n",
       "</pre>\n"
      ],
      "text/plain": [
       "<rich.jupyter.JupyterRenderable at 0x10db28340>"
      ]
     },
     "metadata": {},
     "output_type": "display_data"
    },
    {
     "data": {
      "text/html": [
       "<pre style=\"white-space:pre;overflow-x:auto;line-height:normal;font-family:Menlo,'DejaVu Sans Mono',consolas,'Courier New',monospace\"><span style=\"color: #7fbfbf; text-decoration-color: #7fbfbf\">                    </span><span style=\"color: #008000; text-decoration-color: #008000\">DEBUG   </span> Subtracted bias for R                           <a href=\"file:///var/folders/5d/bvscdv6j3d71wbxsvd8zwbs80000gn/T/ipykernel_30522/1796908630.py\"><span style=\"color: #7f7f7f; text-decoration-color: #7f7f7f\">1796908630.py</span></a><span style=\"color: #7f7f7f; text-decoration-color: #7f7f7f\">:25</span>\n",
       "</pre>\n"
      ],
      "text/plain": [
       "<rich.jupyter.JupyterRenderable at 0x1391522e0>"
      ]
     },
     "metadata": {},
     "output_type": "display_data"
    },
    {
     "data": {
      "text/html": [
       "<pre style=\"white-space:pre;overflow-x:auto;line-height:normal;font-family:Menlo,'DejaVu Sans Mono',consolas,'Courier New',monospace\"><span style=\"color: #7fbfbf; text-decoration-color: #7fbfbf\">                    </span><span style=\"color: #008000; text-decoration-color: #008000\">DEBUG   </span> Determined exposure time to be <span style=\"color: #008080; text-decoration-color: #008080; font-weight: bold\">3</span> for R          <a href=\"file:///var/folders/5d/bvscdv6j3d71wbxsvd8zwbs80000gn/T/ipykernel_30522/1796908630.py\"><span style=\"color: #7f7f7f; text-decoration-color: #7f7f7f\">1796908630.py</span></a><span style=\"color: #7f7f7f; text-decoration-color: #7f7f7f\">:32</span>\n",
       "</pre>\n"
      ],
      "text/plain": [
       "<rich.jupyter.JupyterRenderable at 0x10db28fa0>"
      ]
     },
     "metadata": {},
     "output_type": "display_data"
    },
    {
     "data": {
      "text/html": [
       "<pre style=\"white-space:pre;overflow-x:auto;line-height:normal;font-family:Menlo,'DejaVu Sans Mono',consolas,'Courier New',monospace\"><span style=\"color: #7fbfbf; text-decoration-color: #7fbfbf\">                    </span><span style=\"color: #008000; text-decoration-color: #008000\">DEBUG   </span> Determined equivalent dark to be                <a href=\"file:///var/folders/5d/bvscdv6j3d71wbxsvd8zwbs80000gn/T/ipykernel_30522/1796908630.py\"><span style=\"color: #7f7f7f; text-decoration-color: #7f7f7f\">1796908630.py</span></a><span style=\"color: #7f7f7f; text-decoration-color: #7f7f7f\">:37</span>\n",
       "                             ProcessedData/MasterDark3s.fits for R                           \n",
       "</pre>\n"
      ],
      "text/plain": [
       "<rich.jupyter.JupyterRenderable at 0x139143e50>"
      ]
     },
     "metadata": {},
     "output_type": "display_data"
    },
    {
     "name": "stderr",
     "output_type": "stream",
     "text": [
      "INFO:astropy:using the unit adu passed to the FITS reader instead of the unit adu in the FITS file.\n"
     ]
    },
    {
     "name": "stdout",
     "output_type": "stream",
     "text": [
      "INFO: using the unit adu passed to the FITS reader instead of the unit adu in the FITS file. [astropy.nddata.ccddata]\n"
     ]
    },
    {
     "data": {
      "text/html": [
       "<pre style=\"white-space:pre;overflow-x:auto;line-height:normal;font-family:Menlo,'DejaVu Sans Mono',consolas,'Courier New',monospace\"><span style=\"color: #7fbfbf; text-decoration-color: #7fbfbf\">                    </span><span style=\"color: #008000; text-decoration-color: #008000\">DEBUG   </span> Subtracted darks for R                          <a href=\"file:///var/folders/5d/bvscdv6j3d71wbxsvd8zwbs80000gn/T/ipykernel_30522/1796908630.py\"><span style=\"color: #7f7f7f; text-decoration-color: #7f7f7f\">1796908630.py</span></a><span style=\"color: #7f7f7f; text-decoration-color: #7f7f7f\">:41</span>\n",
       "</pre>\n"
      ],
      "text/plain": [
       "<rich.jupyter.JupyterRenderable at 0x139058b80>"
      ]
     },
     "metadata": {},
     "output_type": "display_data"
    },
    {
     "data": {
      "text/html": [
       "<pre style=\"white-space:pre;overflow-x:auto;line-height:normal;font-family:Menlo,'DejaVu Sans Mono',consolas,'Courier New',monospace\"><span style=\"color: #7fbfbf; text-decoration-color: #7fbfbf\">                    </span><span style=\"color: #000080; text-decoration-color: #000080\">INFO    </span> Saved MasterFlatR.fits                          <a href=\"file:///var/folders/5d/bvscdv6j3d71wbxsvd8zwbs80000gn/T/ipykernel_30522/1796908630.py\"><span style=\"color: #7f7f7f; text-decoration-color: #7f7f7f\">1796908630.py</span></a><span style=\"color: #7f7f7f; text-decoration-color: #7f7f7f\">:44</span>\n",
       "</pre>\n"
      ],
      "text/plain": [
       "<rich.jupyter.JupyterRenderable at 0x1390e6ac0>"
      ]
     },
     "metadata": {},
     "output_type": "display_data"
    },
    {
     "data": {
      "text/html": [
       "<pre style=\"white-space:pre;overflow-x:auto;line-height:normal;font-family:Menlo,'DejaVu Sans Mono',consolas,'Courier New',monospace\"><span style=\"color: #7fbfbf; text-decoration-color: #7fbfbf\">                    </span><span style=\"color: #000080; text-decoration-color: #000080\">INFO    </span> Loaded SII filter with images:                  <a href=\"file:///var/folders/5d/bvscdv6j3d71wbxsvd8zwbs80000gn/T/ipykernel_30522/1796908630.py\"><span style=\"color: #7f7f7f; text-decoration-color: #7f7f7f\">1796908630.py</span></a><span style=\"color: #7f7f7f; text-decoration-color: #7f7f7f\">:18</span>\n",
       "                             <span style=\"font-weight: bold\">[</span><span style=\"color: #008000; text-decoration-color: #008000\">'RawData/flat_SII_001.fits'</span>,                                   \n",
       "                             <span style=\"color: #008000; text-decoration-color: #008000\">'RawData/flat_SII_002.fits'</span>,                                    \n",
       "                             <span style=\"color: #008000; text-decoration-color: #008000\">'RawData/flat_SII_003.fits'</span><span style=\"font-weight: bold\">]</span>                                    \n",
       "</pre>\n"
      ],
      "text/plain": [
       "<rich.jupyter.JupyterRenderable at 0x1390e6610>"
      ]
     },
     "metadata": {},
     "output_type": "display_data"
    },
    {
     "data": {
      "text/html": [
       "<pre style=\"white-space:pre;overflow-x:auto;line-height:normal;font-family:Menlo,'DejaVu Sans Mono',consolas,'Courier New',monospace\"><span style=\"color: #7fbfbf; text-decoration-color: #7fbfbf\">[06/26/22 21:56:44] </span><span style=\"color: #008000; text-decoration-color: #008000\">DEBUG   </span> Combined flats for SII                          <a href=\"file:///var/folders/5d/bvscdv6j3d71wbxsvd8zwbs80000gn/T/ipykernel_30522/1796908630.py\"><span style=\"color: #7f7f7f; text-decoration-color: #7f7f7f\">1796908630.py</span></a><span style=\"color: #7f7f7f; text-decoration-color: #7f7f7f\">:22</span>\n",
       "</pre>\n"
      ],
      "text/plain": [
       "<rich.jupyter.JupyterRenderable at 0x10db28eb0>"
      ]
     },
     "metadata": {},
     "output_type": "display_data"
    },
    {
     "data": {
      "text/html": [
       "<pre style=\"white-space:pre;overflow-x:auto;line-height:normal;font-family:Menlo,'DejaVu Sans Mono',consolas,'Courier New',monospace\"><span style=\"color: #7fbfbf; text-decoration-color: #7fbfbf\">                    </span><span style=\"color: #008000; text-decoration-color: #008000\">DEBUG   </span> Subtracted bias for SII                         <a href=\"file:///var/folders/5d/bvscdv6j3d71wbxsvd8zwbs80000gn/T/ipykernel_30522/1796908630.py\"><span style=\"color: #7f7f7f; text-decoration-color: #7f7f7f\">1796908630.py</span></a><span style=\"color: #7f7f7f; text-decoration-color: #7f7f7f\">:25</span>\n",
       "</pre>\n"
      ],
      "text/plain": [
       "<rich.jupyter.JupyterRenderable at 0x139163850>"
      ]
     },
     "metadata": {},
     "output_type": "display_data"
    },
    {
     "data": {
      "text/html": [
       "<pre style=\"white-space:pre;overflow-x:auto;line-height:normal;font-family:Menlo,'DejaVu Sans Mono',consolas,'Courier New',monospace\"><span style=\"color: #7fbfbf; text-decoration-color: #7fbfbf\">                    </span><span style=\"color: #008000; text-decoration-color: #008000\">DEBUG   </span> Determined exposure time to be <span style=\"color: #008080; text-decoration-color: #008080; font-weight: bold\">5</span> for SII        <a href=\"file:///var/folders/5d/bvscdv6j3d71wbxsvd8zwbs80000gn/T/ipykernel_30522/1796908630.py\"><span style=\"color: #7f7f7f; text-decoration-color: #7f7f7f\">1796908630.py</span></a><span style=\"color: #7f7f7f; text-decoration-color: #7f7f7f\">:32</span>\n",
       "</pre>\n"
      ],
      "text/plain": [
       "<rich.jupyter.JupyterRenderable at 0x1395ee0d0>"
      ]
     },
     "metadata": {},
     "output_type": "display_data"
    },
    {
     "data": {
      "text/html": [
       "<pre style=\"white-space:pre;overflow-x:auto;line-height:normal;font-family:Menlo,'DejaVu Sans Mono',consolas,'Courier New',monospace\"><span style=\"color: #7fbfbf; text-decoration-color: #7fbfbf\">                    </span><span style=\"color: #008000; text-decoration-color: #008000\">DEBUG   </span> Determined equivalent dark to be                <a href=\"file:///var/folders/5d/bvscdv6j3d71wbxsvd8zwbs80000gn/T/ipykernel_30522/1796908630.py\"><span style=\"color: #7f7f7f; text-decoration-color: #7f7f7f\">1796908630.py</span></a><span style=\"color: #7f7f7f; text-decoration-color: #7f7f7f\">:37</span>\n",
       "                             ProcessedData/MasterDark5s.fits for SII                         \n",
       "</pre>\n"
      ],
      "text/plain": [
       "<rich.jupyter.JupyterRenderable at 0x1395ee0a0>"
      ]
     },
     "metadata": {},
     "output_type": "display_data"
    },
    {
     "name": "stderr",
     "output_type": "stream",
     "text": [
      "INFO:astropy:using the unit adu passed to the FITS reader instead of the unit adu in the FITS file.\n"
     ]
    },
    {
     "name": "stdout",
     "output_type": "stream",
     "text": [
      "INFO: using the unit adu passed to the FITS reader instead of the unit adu in the FITS file. [astropy.nddata.ccddata]\n"
     ]
    },
    {
     "data": {
      "text/html": [
       "<pre style=\"white-space:pre;overflow-x:auto;line-height:normal;font-family:Menlo,'DejaVu Sans Mono',consolas,'Courier New',monospace\"><span style=\"color: #7fbfbf; text-decoration-color: #7fbfbf\">                    </span><span style=\"color: #008000; text-decoration-color: #008000\">DEBUG   </span> Subtracted darks for SII                        <a href=\"file:///var/folders/5d/bvscdv6j3d71wbxsvd8zwbs80000gn/T/ipykernel_30522/1796908630.py\"><span style=\"color: #7f7f7f; text-decoration-color: #7f7f7f\">1796908630.py</span></a><span style=\"color: #7f7f7f; text-decoration-color: #7f7f7f\">:41</span>\n",
       "</pre>\n"
      ],
      "text/plain": [
       "<rich.jupyter.JupyterRenderable at 0x13908e820>"
      ]
     },
     "metadata": {},
     "output_type": "display_data"
    },
    {
     "data": {
      "text/html": [
       "<pre style=\"white-space:pre;overflow-x:auto;line-height:normal;font-family:Menlo,'DejaVu Sans Mono',consolas,'Courier New',monospace\"><span style=\"color: #7fbfbf; text-decoration-color: #7fbfbf\">[06/26/22 21:56:45] </span><span style=\"color: #000080; text-decoration-color: #000080\">INFO    </span> Saved MasterFlatSII.fits                        <a href=\"file:///var/folders/5d/bvscdv6j3d71wbxsvd8zwbs80000gn/T/ipykernel_30522/1796908630.py\"><span style=\"color: #7f7f7f; text-decoration-color: #7f7f7f\">1796908630.py</span></a><span style=\"color: #7f7f7f; text-decoration-color: #7f7f7f\">:44</span>\n",
       "</pre>\n"
      ],
      "text/plain": [
       "<rich.jupyter.JupyterRenderable at 0x13912b3a0>"
      ]
     },
     "metadata": {},
     "output_type": "display_data"
    },
    {
     "data": {
      "text/html": [
       "<pre style=\"white-space:pre;overflow-x:auto;line-height:normal;font-family:Menlo,'DejaVu Sans Mono',consolas,'Courier New',monospace\"><span style=\"color: #7fbfbf; text-decoration-color: #7fbfbf\">                    </span><span style=\"color: #000080; text-decoration-color: #000080\">INFO    </span> Loaded NOFILTER filter with images:             <a href=\"file:///var/folders/5d/bvscdv6j3d71wbxsvd8zwbs80000gn/T/ipykernel_30522/1796908630.py\"><span style=\"color: #7f7f7f; text-decoration-color: #7f7f7f\">1796908630.py</span></a><span style=\"color: #7f7f7f; text-decoration-color: #7f7f7f\">:18</span>\n",
       "                             <span style=\"font-weight: bold\">[</span><span style=\"color: #008000; text-decoration-color: #008000\">'RawData/flat_nofilter_001.fits'</span>,                              \n",
       "                             <span style=\"color: #008000; text-decoration-color: #008000\">'RawData/flat_nofilter_002.fits'</span>,                               \n",
       "                             <span style=\"color: #008000; text-decoration-color: #008000\">'RawData/flat_nofilter_003.fits'</span><span style=\"font-weight: bold\">]</span>                               \n",
       "</pre>\n"
      ],
      "text/plain": [
       "<rich.jupyter.JupyterRenderable at 0x10db28fa0>"
      ]
     },
     "metadata": {},
     "output_type": "display_data"
    },
    {
     "data": {
      "text/html": [
       "<pre style=\"white-space:pre;overflow-x:auto;line-height:normal;font-family:Menlo,'DejaVu Sans Mono',consolas,'Courier New',monospace\"><span style=\"color: #7fbfbf; text-decoration-color: #7fbfbf\">[06/26/22 21:56:47] </span><span style=\"color: #008000; text-decoration-color: #008000\">DEBUG   </span> Combined flats for NOFILTER                     <a href=\"file:///var/folders/5d/bvscdv6j3d71wbxsvd8zwbs80000gn/T/ipykernel_30522/1796908630.py\"><span style=\"color: #7f7f7f; text-decoration-color: #7f7f7f\">1796908630.py</span></a><span style=\"color: #7f7f7f; text-decoration-color: #7f7f7f\">:22</span>\n",
       "</pre>\n"
      ],
      "text/plain": [
       "<rich.jupyter.JupyterRenderable at 0x10db28340>"
      ]
     },
     "metadata": {},
     "output_type": "display_data"
    },
    {
     "data": {
      "text/html": [
       "<pre style=\"white-space:pre;overflow-x:auto;line-height:normal;font-family:Menlo,'DejaVu Sans Mono',consolas,'Courier New',monospace\"><span style=\"color: #7fbfbf; text-decoration-color: #7fbfbf\">                    </span><span style=\"color: #008000; text-decoration-color: #008000\">DEBUG   </span> Subtracted bias for NOFILTER                    <a href=\"file:///var/folders/5d/bvscdv6j3d71wbxsvd8zwbs80000gn/T/ipykernel_30522/1796908630.py\"><span style=\"color: #7f7f7f; text-decoration-color: #7f7f7f\">1796908630.py</span></a><span style=\"color: #7f7f7f; text-decoration-color: #7f7f7f\">:25</span>\n",
       "</pre>\n"
      ],
      "text/plain": [
       "<rich.jupyter.JupyterRenderable at 0x139058a30>"
      ]
     },
     "metadata": {},
     "output_type": "display_data"
    },
    {
     "data": {
      "text/html": [
       "<pre style=\"white-space:pre;overflow-x:auto;line-height:normal;font-family:Menlo,'DejaVu Sans Mono',consolas,'Courier New',monospace\"><span style=\"color: #7fbfbf; text-decoration-color: #7fbfbf\">                    </span><span style=\"color: #008000; text-decoration-color: #008000\">DEBUG   </span> Determined exposure time to be <span style=\"color: #008080; text-decoration-color: #008080; font-weight: bold\">2</span> for NOFILTER   <a href=\"file:///var/folders/5d/bvscdv6j3d71wbxsvd8zwbs80000gn/T/ipykernel_30522/1796908630.py\"><span style=\"color: #7f7f7f; text-decoration-color: #7f7f7f\">1796908630.py</span></a><span style=\"color: #7f7f7f; text-decoration-color: #7f7f7f\">:32</span>\n",
       "</pre>\n"
      ],
      "text/plain": [
       "<rich.jupyter.JupyterRenderable at 0x1390e6700>"
      ]
     },
     "metadata": {},
     "output_type": "display_data"
    },
    {
     "data": {
      "text/html": [
       "<pre style=\"white-space:pre;overflow-x:auto;line-height:normal;font-family:Menlo,'DejaVu Sans Mono',consolas,'Courier New',monospace\"><span style=\"color: #7fbfbf; text-decoration-color: #7fbfbf\">                    </span><span style=\"color: #008000; text-decoration-color: #008000\">DEBUG   </span> Determined equivalent dark to be                <a href=\"file:///var/folders/5d/bvscdv6j3d71wbxsvd8zwbs80000gn/T/ipykernel_30522/1796908630.py\"><span style=\"color: #7f7f7f; text-decoration-color: #7f7f7f\">1796908630.py</span></a><span style=\"color: #7f7f7f; text-decoration-color: #7f7f7f\">:37</span>\n",
       "                             ProcessedData/MasterDark2s.fits for NOFILTER                    \n",
       "</pre>\n"
      ],
      "text/plain": [
       "<rich.jupyter.JupyterRenderable at 0x13908e640>"
      ]
     },
     "metadata": {},
     "output_type": "display_data"
    },
    {
     "name": "stderr",
     "output_type": "stream",
     "text": [
      "INFO:astropy:using the unit adu passed to the FITS reader instead of the unit adu in the FITS file.\n"
     ]
    },
    {
     "name": "stdout",
     "output_type": "stream",
     "text": [
      "INFO: using the unit adu passed to the FITS reader instead of the unit adu in the FITS file. [astropy.nddata.ccddata]\n"
     ]
    },
    {
     "data": {
      "text/html": [
       "<pre style=\"white-space:pre;overflow-x:auto;line-height:normal;font-family:Menlo,'DejaVu Sans Mono',consolas,'Courier New',monospace\"><span style=\"color: #7fbfbf; text-decoration-color: #7fbfbf\">                    </span><span style=\"color: #008000; text-decoration-color: #008000\">DEBUG   </span> Subtracted darks for NOFILTER                   <a href=\"file:///var/folders/5d/bvscdv6j3d71wbxsvd8zwbs80000gn/T/ipykernel_30522/1796908630.py\"><span style=\"color: #7f7f7f; text-decoration-color: #7f7f7f\">1796908630.py</span></a><span style=\"color: #7f7f7f; text-decoration-color: #7f7f7f\">:41</span>\n",
       "</pre>\n"
      ],
      "text/plain": [
       "<rich.jupyter.JupyterRenderable at 0x13908eca0>"
      ]
     },
     "metadata": {},
     "output_type": "display_data"
    },
    {
     "data": {
      "text/html": [
       "<pre style=\"white-space:pre;overflow-x:auto;line-height:normal;font-family:Menlo,'DejaVu Sans Mono',consolas,'Courier New',monospace\"><span style=\"color: #7fbfbf; text-decoration-color: #7fbfbf\">                    </span><span style=\"color: #000080; text-decoration-color: #000080\">INFO    </span> Saved MasterFlatNOFILTER.fits                   <a href=\"file:///var/folders/5d/bvscdv6j3d71wbxsvd8zwbs80000gn/T/ipykernel_30522/1796908630.py\"><span style=\"color: #7f7f7f; text-decoration-color: #7f7f7f\">1796908630.py</span></a><span style=\"color: #7f7f7f; text-decoration-color: #7f7f7f\">:44</span>\n",
       "</pre>\n"
      ],
      "text/plain": [
       "<rich.jupyter.JupyterRenderable at 0x1395ead60>"
      ]
     },
     "metadata": {},
     "output_type": "display_data"
    }
   ],
   "source": [
    "# create master flats\n",
    "# TODO: Find flexible alternative to assuming string positions\n",
    "# creates a dictionary of filter to image list\n",
    "flat_dict = {}\n",
    "for file in raw_flats.files:\n",
    "    split_file = file.split(\"_\")\n",
    "    im_filter = split_file[1].upper()\n",
    "\n",
    "    if im_filter in flat_dict:\n",
    "        flat_dict[im_filter].append(os.path.join(raw_data_path, file))\n",
    "    else:\n",
    "        flat_dict[im_filter] = [os.path.join(raw_data_path, file)]\n",
    "\n",
    "# load all images of a given filter to create master flats\n",
    "master_bias = CCDData.read(os.path.join(processed_data_path, \"MasterBias.fits\"), unit=\"adu\")\n",
    "\n",
    "for flat_filter, im_list in flat_dict.items():\n",
    "    log.info(\"Loaded {0} filter with images: {1}\".format(flat_filter, im_list))\n",
    "\n",
    "    # first do standard median combination of flats\n",
    "    master_flat = ccdproc.combine(im_list, method=\"median\", unit=\"adu\")\n",
    "    log.debug(\"Combined flats for {0}\".format(flat_filter))\n",
    "\n",
    "    master_flat = ccdproc.subtract_bias(master_flat, master_bias)\n",
    "    log.debug(\"Subtracted bias for {0}\".format(flat_filter))\n",
    "\n",
    "    # find same exposure darks by assuming all flats taken with the same exposure time\n",
    "    # TODO: Handle the no darks error\n",
    "    # TODO: Handle non-integer exposure times\n",
    "    example_flat = CCDData.read(im_list[0], unit=\"adu\")\n",
    "    exposure = int(example_flat.meta[\"exptime\"])\n",
    "    log.debug(\"Determined exposure time to be {0} for {1}\".format(exposure, flat_filter))\n",
    "\n",
    "    # determined the equivalent dark through file name recreation\n",
    "    # TODO: Do this better\n",
    "    equivalent_dark = os.path.join(processed_data_path, \"MasterDark{0}s.fits\".format(exposure))\n",
    "    log.debug(\"Determined equivalent dark to be {0} for {1}\".format(equivalent_dark, flat_filter))\n",
    "\n",
    "    master_flat = ccdproc.subtract_dark(master_flat, CCDData.read(equivalent_dark, unit=\"adu\"),\n",
    "                                        exposure_time=exposure, exposure_unit=u.second)\n",
    "    log.debug(\"Subtracted darks for {0}\".format(flat_filter))\n",
    "\n",
    "    master_flat.write(os.path.join(processed_data_path, \"MasterFlat{0}.fits\".format(flat_filter)), overwrite=True)\n",
    "    log.info(\"Saved MasterFlat{0}.fits\".format(flat_filter))"
   ]
  },
  {
   "cell_type": "code",
   "execution_count": null,
   "metadata": {},
   "outputs": [],
   "source": []
  }
 ],
 "metadata": {
  "kernelspec": {
   "display_name": "Python 3.9.8 64-bit",
   "language": "python",
   "name": "python3"
  },
  "language_info": {
   "codemirror_mode": {
    "name": "ipython",
    "version": 3
   },
   "file_extension": ".py",
   "mimetype": "text/x-python",
   "name": "python",
   "nbconvert_exporter": "python",
   "pygments_lexer": "ipython3",
   "version": "3.9.8"
  },
  "orig_nbformat": 4,
  "vscode": {
   "interpreter": {
    "hash": "aee8b7b246df8f9039afb4144a1f6fd8d2ca17a180786b69acc140d282b71a49"
   }
  }
 },
 "nbformat": 4,
 "nbformat_minor": 2
}
